{
 "cells": [
  {
   "cell_type": "code",
   "execution_count": 1,
   "metadata": {},
   "outputs": [
    {
     "name": "stderr",
     "output_type": "stream",
     "text": [
      "C:\\ProgramData\\Anaconda3\\lib\\site-packages\\gensim\\utils.py:1197: UserWarning: detected Windows; aliasing chunkize to chunkize_serial\n",
      "  warnings.warn(\"detected Windows; aliasing chunkize to chunkize_serial\")\n",
      "C:\\ProgramData\\Anaconda3\\lib\\site-packages\\h5py\\__init__.py:36: FutureWarning: Conversion of the second argument of issubdtype from `float` to `np.floating` is deprecated. In future, it will be treated as `np.float64 == np.dtype(float).type`.\n",
      "  from ._conv import register_converters as _register_converters\n",
      "Using TensorFlow backend.\n"
     ]
    }
   ],
   "source": [
    "from __future__ import print_function\n",
    "\n",
    "import os.path\n",
    "import psycopg2\n",
    "from gensim.models import Doc2Vec\n",
    "import numpy as np\n",
    "import pandas as pd\n",
    "import pickle\n",
    "import multiprocessing as mp\n",
    "import re\n",
    "import linecache\n",
    "\n",
    "import numpy as np\n",
    "from matplotlib import pyplot as plt\n",
    "import seaborn as sns\n",
    "from sklearn import datasets\n",
    "import pandas as pd\n",
    "import glob\n",
    "import os\n",
    "from sklearn.model_selection import cross_validate\n",
    "from sklearn.model_selection import KFold\n",
    "from sklearn.preprocessing import StandardScaler\n",
    "from sklearn.datasets import make_moons, make_circles, make_classification\n",
    "from sklearn.neural_network import MLPClassifier\n",
    "from sklearn.neighbors import KNeighborsClassifier\n",
    "from sklearn.svm import SVC\n",
    "from sklearn.gaussian_process import GaussianProcessClassifier\n",
    "from sklearn.gaussian_process.kernels import RBF\n",
    "from sklearn.tree import DecisionTreeClassifier\n",
    "from sklearn.ensemble import RandomForestClassifier, AdaBoostClassifier\n",
    "from sklearn.naive_bayes import GaussianNB\n",
    "from sklearn.discriminant_analysis import QuadraticDiscriminantAnalysis\n",
    "import time\n",
    "from sklearn.model_selection import train_test_split\n",
    "import random\n",
    "from gensim.models.doc2vec import Doc2Vec\n",
    "\n",
    "import tensorflow as tf\n",
    "from keras.models import Model\n",
    "from keras.layers import Dense, Flatten, Dropout, Activation, Input, Lambda\n",
    "from keras.layers.normalization import BatchNormalization\n",
    "from keras.layers.pooling import GlobalAveragePooling1D\n",
    "from keras.utils import np_utils, Sequence\n",
    "from keras.utils.vis_utils import plot_model\n",
    "import keras as K\n",
    "import numpy as np\n",
    "import pandas as pd\n",
    "import os\n",
    "import time\n",
    "\n",
    "import matplotlib\n",
    "from matplotlib.ticker import NullFormatter\n",
    "from sklearn.decomposition import PCA\n",
    "from sklearn.metrics import precision_recall_fscore_support, accuracy_score\n",
    "from sklearn.model_selection import StratifiedKFold\n",
    "from sklearn.utils import class_weight, shuffle\n",
    "import matplotlib.pyplot as plt\n",
    "from mpl_toolkits.mplot3d import Axes3D\n",
    "\n",
    "from keras.models import Sequential\n",
    "from keras.layers.core import Dense, Dropout, Activation\n",
    "from keras.initializers import *\n",
    "from keras.wrappers.scikit_learn import KerasClassifier\n",
    "import numpy as np"
   ]
  },
  {
   "cell_type": "code",
   "execution_count": 2,
   "metadata": {},
   "outputs": [],
   "source": [
    "def kMLPC(input_dim, epochs=200, batch_size=200):\n",
    "    model = Sequential()\n",
    "    model.add(Dense(100, activation='relu', kernel_initializer=glorot_uniform(), bias_initializer=glorot_uniform(), input_dim=input_dim))\n",
    "    model.add(Dense(1, activation='sigmoid', kernel_initializer=glorot_normal(), bias_initializer=glorot_normal()))\n",
    "    model.compile(loss='binary_crossentropy', optimizer='adam', metrics=['accuracy'])\n",
    "    return KerasClassifier(build_fn=model, epochs=epochs, batch_size=batch_size)"
   ]
  },
  {
   "cell_type": "code",
   "execution_count": 4,
   "metadata": {},
   "outputs": [],
   "source": [
    "functions = pd.read_csv('functions.csv', names=('id', 'document'))"
   ]
  },
  {
   "cell_type": "code",
   "execution_count": 7,
   "metadata": {},
   "outputs": [],
   "source": [
    "host = 'localhost'\n",
    "port = '5432'\n",
    "dbname = 'bigclonebench'\n",
    "user = 'postgres'\n",
    "password = '****'\n",
    "connection = psycopg2.connect(\"host=\" + host + \" port=\" + port + \" dbname=\" + dbname + \" user=\" + user + \" password=\" + password)\n",
    "connection.get_backend_pid()\n",
    "cur=connection.cursor()\n",
    "sql = 'select function_id_one, function_id_two from clones where min_size >= 5'\n",
    "cur.execute(sql)\n",
    "\n",
    "clones = [row for row in cur]\n",
    "\n",
    "\n",
    "cur.close()\n",
    "connection.close()"
   ]
  },
  {
   "cell_type": "code",
   "execution_count": 8,
   "metadata": {},
   "outputs": [],
   "source": [
    "function_id_set = set(functions['id'])\n",
    "clones = [row for row in clones if row[0] in function_id_set and row[1] in function_id_set]"
   ]
  },
  {
   "cell_type": "code",
   "execution_count": 10,
   "metadata": {},
   "outputs": [],
   "source": [
    "connection = psycopg2.connect(\"host=\" + host + \" port=\" + port + \" dbname=\" + dbname + \" user=\" + user + \" password=\" + password)\n",
    "connection.get_backend_pid()\n",
    "cur=connection.cursor()\n",
    "sql = \"SELECT FP.function_id_one, FP.function_id_two from false_positives as FP, functions as A, functions as B \"\n",
    "sql += \"where FP.function_id_one=A.id and FP.function_id_two=B.id and \"\n",
    "sql += \"A.normalized_size>=5 and B.normalized_size>=5\"\n",
    "cur.execute(sql)\n",
    "\n",
    "FP = [row for row in cur]\n",
    "\n",
    "\n",
    "cur.close()\n",
    "connection.close()"
   ]
  },
  {
   "cell_type": "code",
   "execution_count": 12,
   "metadata": {},
   "outputs": [],
   "source": [
    "function_id_set = set(functions['id'])\n",
    "FP = [row for row in FP if row[0] in function_id_set and row[1] in function_id_set]"
   ]
  },
  {
   "cell_type": "code",
   "execution_count": 13,
   "metadata": {},
   "outputs": [],
   "source": [
    "df_clones= pd.DataFrame(clones, columns=['id_one', 'id_two'])\n",
    "df_clones['clone'] = 1\n",
    "df_fp= pd.DataFrame(FP, columns=['id_one', 'id_two'])\n",
    "df_fp['clone'] = 0\n",
    "df_clones = df_clones.append(df_fp)\n"
   ]
  },
  {
   "cell_type": "markdown",
   "metadata": {},
   "source": [
    "# Select model"
   ]
  },
  {
   "cell_type": "code",
   "execution_count": 14,
   "metadata": {},
   "outputs": [],
   "source": [
    "#dv = np.load('model/scdvnoidf.dv.npy')\n",
    "#dv = np.load('model/AvgVec.dv.npy')\n",
    "dv = np.load('model/LSI.dv.npy')\n",
    "#dv = np.load('model/LDA.dv.npy')\n",
    "#docmodel = Doc2Vec.load(\"model/pvdbow.model\")\n",
    "#docmodel = Doc2Vec.load(\"model/pvdm.model\")\n",
    "#dv = docmodel.docvecs.vectors_docs\n",
    "\n",
    "bin_vec_dim = dv.shape[1]"
   ]
  },
  {
   "cell_type": "code",
   "execution_count": 15,
   "metadata": {},
   "outputs": [],
   "source": [
    "functions_id = functions['id']\n",
    "dv_dict = {}\n",
    "for i, id in enumerate(functions_id):\n",
    "    dv_dict[id] = dv[i]\n"
   ]
  },
  {
   "cell_type": "code",
   "execution_count": 16,
   "metadata": {},
   "outputs": [
    {
     "data": {
      "text/plain": [
       "200"
      ]
     },
     "execution_count": 16,
     "metadata": {},
     "output_type": "execute_result"
    }
   ],
   "source": [
    "dv.shape[1]"
   ]
  },
  {
   "cell_type": "code",
   "execution_count": 17,
   "metadata": {},
   "outputs": [],
   "source": [
    "X_left = np.array([dv_dict[id] for id in df_clones['id_one']])\n",
    "X_right = np.array([dv_dict[id] for id in df_clones['id_two']])\n",
    "t = np.array(df_clones['clone'])"
   ]
  },
  {
   "cell_type": "code",
   "execution_count": 18,
   "metadata": {},
   "outputs": [],
   "source": [
    "X = X_left - X_right\n",
    "X = np.abs(X)"
   ]
  },
  {
   "cell_type": "code",
   "execution_count": 19,
   "metadata": {},
   "outputs": [],
   "source": [
    "X, y = shuffle(X, t)"
   ]
  },
  {
   "cell_type": "code",
   "execution_count": 20,
   "metadata": {},
   "outputs": [
    {
     "name": "stdout",
     "output_type": "stream",
     "text": [
      "Epoch 1/1\n",
      "5498651/5498651 [==============================] - 34s 6us/step - loss: 0.0498 - acc: 0.9859\n",
      "610962/610962 [==============================] - 1s 2us/step\n",
      "accuracy: 0.9900, recall: 0.9987, precision: 0.9910, f1 score: 0.9949\n",
      "\n",
      "Epoch 1/1\n",
      "5498651/5498651 [==============================] - 34s 6us/step - loss: 0.0507 - acc: 0.9857\n",
      "610962/610962 [==============================] - 1s 2us/step\n",
      "accuracy: 0.9898, recall: 0.9985, precision: 0.9910, f1 score: 0.9948\n",
      "\n",
      "Epoch 1/1\n",
      "5498651/5498651 [==============================] - 35s 6us/step - loss: 0.0508 - acc: 0.9857\n",
      "610962/610962 [==============================] - 1s 2us/step\n",
      "accuracy: 0.9899, recall: 0.9978, precision: 0.9919, f1 score: 0.9948\n",
      "\n"
     ]
    },
    {
     "ename": "KeyboardInterrupt",
     "evalue": "",
     "output_type": "error",
     "traceback": [
      "\u001b[1;31m---------------------------------------------------------------------------\u001b[0m",
      "\u001b[1;31mKeyboardInterrupt\u001b[0m                         Traceback (most recent call last)",
      "\u001b[1;32m<ipython-input-20-1c73059c99a0>\u001b[0m in \u001b[0;36m<module>\u001b[1;34m\u001b[0m\n\u001b[0;32m     10\u001b[0m         \u001b[0mtrain_Y\u001b[0m \u001b[1;33m=\u001b[0m \u001b[0my\u001b[0m\u001b[1;33m[\u001b[0m\u001b[0mtrain_idx\u001b[0m\u001b[1;33m]\u001b[0m\u001b[1;33m\u001b[0m\u001b[1;33m\u001b[0m\u001b[0m\n\u001b[0;32m     11\u001b[0m \u001b[1;33m\u001b[0m\u001b[0m\n\u001b[1;32m---> 12\u001b[1;33m         \u001b[0mtrain_X\u001b[0m\u001b[1;33m,\u001b[0m \u001b[0mtrain_Y\u001b[0m \u001b[1;33m=\u001b[0m \u001b[0mshuffle\u001b[0m\u001b[1;33m(\u001b[0m\u001b[0mtrain_X\u001b[0m\u001b[1;33m,\u001b[0m \u001b[0mtrain_Y\u001b[0m\u001b[1;33m)\u001b[0m\u001b[1;33m\u001b[0m\u001b[1;33m\u001b[0m\u001b[0m\n\u001b[0m\u001b[0;32m     13\u001b[0m \u001b[1;33m\u001b[0m\u001b[0m\n\u001b[0;32m     14\u001b[0m         \u001b[0mtest_X\u001b[0m \u001b[1;33m=\u001b[0m \u001b[0mX\u001b[0m\u001b[1;33m[\u001b[0m\u001b[0mtest_idx\u001b[0m\u001b[1;33m]\u001b[0m\u001b[1;33m\u001b[0m\u001b[1;33m\u001b[0m\u001b[0m\n",
      "\u001b[1;32mC:\\ProgramData\\Anaconda3\\lib\\site-packages\\sklearn\\utils\\__init__.py\u001b[0m in \u001b[0;36mshuffle\u001b[1;34m(*arrays, **options)\u001b[0m\n\u001b[0;32m    401\u001b[0m     \"\"\"\n\u001b[0;32m    402\u001b[0m     \u001b[0moptions\u001b[0m\u001b[1;33m[\u001b[0m\u001b[1;34m'replace'\u001b[0m\u001b[1;33m]\u001b[0m \u001b[1;33m=\u001b[0m \u001b[1;32mFalse\u001b[0m\u001b[1;33m\u001b[0m\u001b[1;33m\u001b[0m\u001b[0m\n\u001b[1;32m--> 403\u001b[1;33m     \u001b[1;32mreturn\u001b[0m \u001b[0mresample\u001b[0m\u001b[1;33m(\u001b[0m\u001b[1;33m*\u001b[0m\u001b[0marrays\u001b[0m\u001b[1;33m,\u001b[0m \u001b[1;33m**\u001b[0m\u001b[0moptions\u001b[0m\u001b[1;33m)\u001b[0m\u001b[1;33m\u001b[0m\u001b[1;33m\u001b[0m\u001b[0m\n\u001b[0m\u001b[0;32m    404\u001b[0m \u001b[1;33m\u001b[0m\u001b[0m\n\u001b[0;32m    405\u001b[0m \u001b[1;33m\u001b[0m\u001b[0m\n",
      "\u001b[1;32mC:\\ProgramData\\Anaconda3\\lib\\site-packages\\sklearn\\utils\\__init__.py\u001b[0m in \u001b[0;36mresample\u001b[1;34m(*arrays, **options)\u001b[0m\n\u001b[0;32m    325\u001b[0m     \u001b[1;31m# convert sparse matrices to CSR for row-based indexing\u001b[0m\u001b[1;33m\u001b[0m\u001b[1;33m\u001b[0m\u001b[1;33m\u001b[0m\u001b[0m\n\u001b[0;32m    326\u001b[0m     \u001b[0marrays\u001b[0m \u001b[1;33m=\u001b[0m \u001b[1;33m[\u001b[0m\u001b[0ma\u001b[0m\u001b[1;33m.\u001b[0m\u001b[0mtocsr\u001b[0m\u001b[1;33m(\u001b[0m\u001b[1;33m)\u001b[0m \u001b[1;32mif\u001b[0m \u001b[0missparse\u001b[0m\u001b[1;33m(\u001b[0m\u001b[0ma\u001b[0m\u001b[1;33m)\u001b[0m \u001b[1;32melse\u001b[0m \u001b[0ma\u001b[0m \u001b[1;32mfor\u001b[0m \u001b[0ma\u001b[0m \u001b[1;32min\u001b[0m \u001b[0marrays\u001b[0m\u001b[1;33m]\u001b[0m\u001b[1;33m\u001b[0m\u001b[1;33m\u001b[0m\u001b[0m\n\u001b[1;32m--> 327\u001b[1;33m     \u001b[0mresampled_arrays\u001b[0m \u001b[1;33m=\u001b[0m \u001b[1;33m[\u001b[0m\u001b[0msafe_indexing\u001b[0m\u001b[1;33m(\u001b[0m\u001b[0ma\u001b[0m\u001b[1;33m,\u001b[0m \u001b[0mindices\u001b[0m\u001b[1;33m)\u001b[0m \u001b[1;32mfor\u001b[0m \u001b[0ma\u001b[0m \u001b[1;32min\u001b[0m \u001b[0marrays\u001b[0m\u001b[1;33m]\u001b[0m\u001b[1;33m\u001b[0m\u001b[1;33m\u001b[0m\u001b[0m\n\u001b[0m\u001b[0;32m    328\u001b[0m     \u001b[1;32mif\u001b[0m \u001b[0mlen\u001b[0m\u001b[1;33m(\u001b[0m\u001b[0mresampled_arrays\u001b[0m\u001b[1;33m)\u001b[0m \u001b[1;33m==\u001b[0m \u001b[1;36m1\u001b[0m\u001b[1;33m:\u001b[0m\u001b[1;33m\u001b[0m\u001b[1;33m\u001b[0m\u001b[0m\n\u001b[0;32m    329\u001b[0m         \u001b[1;31m# syntactic sugar for the unit argument case\u001b[0m\u001b[1;33m\u001b[0m\u001b[1;33m\u001b[0m\u001b[1;33m\u001b[0m\u001b[0m\n",
      "\u001b[1;32mC:\\ProgramData\\Anaconda3\\lib\\site-packages\\sklearn\\utils\\__init__.py\u001b[0m in \u001b[0;36m<listcomp>\u001b[1;34m(.0)\u001b[0m\n\u001b[0;32m    325\u001b[0m     \u001b[1;31m# convert sparse matrices to CSR for row-based indexing\u001b[0m\u001b[1;33m\u001b[0m\u001b[1;33m\u001b[0m\u001b[1;33m\u001b[0m\u001b[0m\n\u001b[0;32m    326\u001b[0m     \u001b[0marrays\u001b[0m \u001b[1;33m=\u001b[0m \u001b[1;33m[\u001b[0m\u001b[0ma\u001b[0m\u001b[1;33m.\u001b[0m\u001b[0mtocsr\u001b[0m\u001b[1;33m(\u001b[0m\u001b[1;33m)\u001b[0m \u001b[1;32mif\u001b[0m \u001b[0missparse\u001b[0m\u001b[1;33m(\u001b[0m\u001b[0ma\u001b[0m\u001b[1;33m)\u001b[0m \u001b[1;32melse\u001b[0m \u001b[0ma\u001b[0m \u001b[1;32mfor\u001b[0m \u001b[0ma\u001b[0m \u001b[1;32min\u001b[0m \u001b[0marrays\u001b[0m\u001b[1;33m]\u001b[0m\u001b[1;33m\u001b[0m\u001b[1;33m\u001b[0m\u001b[0m\n\u001b[1;32m--> 327\u001b[1;33m     \u001b[0mresampled_arrays\u001b[0m \u001b[1;33m=\u001b[0m \u001b[1;33m[\u001b[0m\u001b[0msafe_indexing\u001b[0m\u001b[1;33m(\u001b[0m\u001b[0ma\u001b[0m\u001b[1;33m,\u001b[0m \u001b[0mindices\u001b[0m\u001b[1;33m)\u001b[0m \u001b[1;32mfor\u001b[0m \u001b[0ma\u001b[0m \u001b[1;32min\u001b[0m \u001b[0marrays\u001b[0m\u001b[1;33m]\u001b[0m\u001b[1;33m\u001b[0m\u001b[1;33m\u001b[0m\u001b[0m\n\u001b[0m\u001b[0;32m    328\u001b[0m     \u001b[1;32mif\u001b[0m \u001b[0mlen\u001b[0m\u001b[1;33m(\u001b[0m\u001b[0mresampled_arrays\u001b[0m\u001b[1;33m)\u001b[0m \u001b[1;33m==\u001b[0m \u001b[1;36m1\u001b[0m\u001b[1;33m:\u001b[0m\u001b[1;33m\u001b[0m\u001b[1;33m\u001b[0m\u001b[0m\n\u001b[0;32m    329\u001b[0m         \u001b[1;31m# syntactic sugar for the unit argument case\u001b[0m\u001b[1;33m\u001b[0m\u001b[1;33m\u001b[0m\u001b[1;33m\u001b[0m\u001b[0m\n",
      "\u001b[1;32mC:\\ProgramData\\Anaconda3\\lib\\site-packages\\sklearn\\utils\\__init__.py\u001b[0m in \u001b[0;36msafe_indexing\u001b[1;34m(X, indices)\u001b[0m\n\u001b[0;32m    214\u001b[0m                                    indices.dtype.kind == 'i'):\n\u001b[0;32m    215\u001b[0m             \u001b[1;31m# This is often substantially faster than X[indices]\u001b[0m\u001b[1;33m\u001b[0m\u001b[1;33m\u001b[0m\u001b[1;33m\u001b[0m\u001b[0m\n\u001b[1;32m--> 216\u001b[1;33m             \u001b[1;32mreturn\u001b[0m \u001b[0mX\u001b[0m\u001b[1;33m.\u001b[0m\u001b[0mtake\u001b[0m\u001b[1;33m(\u001b[0m\u001b[0mindices\u001b[0m\u001b[1;33m,\u001b[0m \u001b[0maxis\u001b[0m\u001b[1;33m=\u001b[0m\u001b[1;36m0\u001b[0m\u001b[1;33m)\u001b[0m\u001b[1;33m\u001b[0m\u001b[1;33m\u001b[0m\u001b[0m\n\u001b[0m\u001b[0;32m    217\u001b[0m         \u001b[1;32melse\u001b[0m\u001b[1;33m:\u001b[0m\u001b[1;33m\u001b[0m\u001b[1;33m\u001b[0m\u001b[0m\n\u001b[0;32m    218\u001b[0m             \u001b[1;32mreturn\u001b[0m \u001b[0mX\u001b[0m\u001b[1;33m[\u001b[0m\u001b[0mindices\u001b[0m\u001b[1;33m]\u001b[0m\u001b[1;33m\u001b[0m\u001b[1;33m\u001b[0m\u001b[0m\n",
      "\u001b[1;31mKeyboardInterrupt\u001b[0m: "
     ]
    }
   ],
   "source": [
    "skf = StratifiedKFold(n_splits=10)\n",
    "avg_accuracy = 0.\n",
    "avg_recall = 0.\n",
    "avg_precision = 0.\n",
    "avg_f1_score = 0.\n",
    "skf_split = skf.split(X, y)\n",
    "\n",
    "for train_idx, test_idx in skf_split:\n",
    "        train_X = X[train_idx]\n",
    "        train_Y = y[train_idx]\n",
    "        \n",
    "        train_X, train_Y = shuffle(train_X, train_Y)\n",
    "        \n",
    "        test_X = X[test_idx]\n",
    "        test_Y = y[test_idx]\n",
    "        \n",
    "        validate_X = test_X[:256]\n",
    "        validate_Y = test_Y[:256]\n",
    "\n",
    "        model = Sequential()\n",
    "        model.add(Dense(100, activation='relu', kernel_initializer=glorot_uniform(), bias_initializer=glorot_uniform(), input_dim=bin_vec_dim))\n",
    "        model.add(Dense(1, activation='sigmoid', kernel_initializer=glorot_normal(), bias_initializer=glorot_normal()))\n",
    "        model.compile(loss='binary_crossentropy', optimizer='adam', metrics=['accuracy'])\n",
    "        \n",
    "        #samples_generator = SequenceSamples(train_X_left,train_X_right,\n",
    "        #                                    train_Y, batch_size)\n",
    "        epochs = 1\n",
    "        batch_size=256\n",
    "        model.fit(train_X, train_Y,\n",
    "                  epochs=epochs,verbose=1, batch_size=batch_size)\n",
    "        y_pred = model.predict(test_X, verbose=1, batch_size=batch_size)\n",
    "        y_pred = np.round(y_pred)\n",
    "        accuracy = accuracy_score(test_Y, y_pred)\n",
    "        precision, recall, fscore, _ = precision_recall_fscore_support(test_Y,\n",
    "                                                                 y_pred, average='binary')\n",
    "        print(\"accuracy: %.4f, recall: %.4f, \"\n",
    "                   \"precision: %.4f, f1 score: %.4f\\n\" % (\n",
    "                   accuracy, recall, precision, fscore))\n",
    "        avg_accuracy += accuracy\n",
    "        avg_precision += precision\n",
    "        avg_recall += recall\n",
    "        avg_f1_score += fscore\n",
    "        \n",
    "avg_accuracy /= 10.0\n",
    "avg_precision /= 10.0\n",
    "avg_recall /= 10.0\n",
    "avg_f1_score /= 10.0\n",
    "\n",
    "print('Avg accuracy: %.4f, avg recall: %.4f, avg precision: %.4f, avg f1 '\n",
    "          'score: %.4f' % (\n",
    "              avg_accuracy, avg_recall, avg_precision, avg_f1_score))"
   ]
  },
  {
   "cell_type": "code",
   "execution_count": 85,
   "metadata": {},
   "outputs": [],
   "source": [
    "def classification(x1, x2):\n",
    "    input = Input(shape=(bin_vec_dim,))\n",
    "    # share layers\n",
    "    #feed_forward_model = Model(inputs=input, outputs=feed_forward(input))\n",
    "    #x1 = feed_forward_model(x1)\n",
    "    #x2 = feed_forward_model(x2)\n",
    "    concat_input = Input(shape=(bin_vec_dim*2,))\n",
    "    # share layers\n",
    "    merge_model = Model(inputs=concat_input,\n",
    "                        outputs=Activation(activation='relu')(\n",
    "                            BatchNormalization()(\n",
    "                                Dense(100, kernel_initializer=kernel_init,\n",
    "                                      bias_initializer=bias_init,\n",
    "                                      input_shape=(bin_vec_dim*2,))(\n",
    "                                    concat_input))))\n",
    "    \n",
    "    xc1 = K.layers.concatenate([x1, x2])\n",
    "    xc1 = merge_model(xc1)\n",
    "    \n",
    "    xc2 = K.layers.concatenate([x2, x1])\n",
    "    xc2 = merge_model(xc2)\n",
    "    \n",
    "    xc = K.layers.average([xc1, xc2])\n",
    "    \n",
    "    x = Dense(1, use_bias=False, activation='sigmoid',\n",
    "              kernel_initializer=kernel_init,\n",
    "              batch_input_shape=K.backend.get_variable_shape(xc))(xc)\n",
    "    \n",
    "    return x"
   ]
  },
  {
   "cell_type": "code",
   "execution_count": null,
   "metadata": {},
   "outputs": [],
   "source": []
  }
 ],
 "metadata": {
  "kernelspec": {
   "display_name": "Python 3",
   "language": "python",
   "name": "python3"
  },
  "language_info": {
   "codemirror_mode": {
    "name": "ipython",
    "version": 3
   },
   "file_extension": ".py",
   "mimetype": "text/x-python",
   "name": "python",
   "nbconvert_exporter": "python",
   "pygments_lexer": "ipython3",
   "version": "3.6.8"
  }
 },
 "nbformat": 4,
 "nbformat_minor": 2
}
