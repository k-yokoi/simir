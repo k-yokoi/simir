{
 "cells": [
  {
   "cell_type": "code",
   "execution_count": 58,
   "metadata": {},
   "outputs": [],
   "source": [
    "import os.path\n",
    "import psycopg2\n",
    "from gensim.models import Doc2Vec\n",
    "import numpy as np\n",
    "import pandas as pd\n",
    "import pickle\n",
    "import multiprocessing as mp\n",
    "import re\n",
    "from antlr4 import *\n",
    "from JavaLexer import JavaLexer\n",
    "import linecache"
   ]
  },
  {
   "cell_type": "code",
   "execution_count": 118,
   "metadata": {},
   "outputs": [],
   "source": [
    "root = \"E:\\k-yokoi\\IJaDataset2.0-full\\dataset\"\n",
    "dest = \"E:\\k-yokoi\\IJaDataset2.0-full-functions\"\n",
    "MinLine = 6"
   ]
  },
  {
   "cell_type": "code",
   "execution_count": 100,
   "metadata": {},
   "outputs": [],
   "source": [
    "snalePattern = re.compile(\"(_|-|\\\\d)+\")\n",
    "#camelPattern = re.compile(\"(?<=[A-Z])(?=[A-Z][a-z])|(?<=[a-z])(?=[A-Z])|\\\\d+\")\n",
    "camelPattern = re.compile(\"([a-z]+)([A-Z][a-z]+)|([A-Z][a-z]+)|\\\\d+\")\n",
    "alpahbetPattern = re.compile(\"[a-zA-Z]+\")"
   ]
  },
  {
   "cell_type": "code",
   "execution_count": 147,
   "metadata": {},
   "outputs": [],
   "source": [
    "def separateIdentifier(identifier):\n",
    "    if '_' in identifier or '-' in identifier:\n",
    "        strings = [x for x in snalePattern.split(identifier) if x != None and x != '' and not snalePattern.match(x)]\n",
    "    else:\n",
    "        strings = [x for x in camelPattern.split(identifier) if x != None and x != '']\n",
    "    \n",
    "    return strings"
   ]
  },
  {
   "cell_type": "code",
   "execution_count": 151,
   "metadata": {},
   "outputs": [
    {
     "data": {
      "text/plain": [
       "['local', 'hos', 't']"
      ]
     },
     "execution_count": 151,
     "metadata": {},
     "output_type": "execute_result"
    }
   ],
   "source": [
    "separateIdentifier('_local_hos3t44')"
   ]
  },
  {
   "cell_type": "code",
   "execution_count": 37,
   "metadata": {},
   "outputs": [],
   "source": [
    "def gen_query(syntactic_type, min_sim, max_sim):\n",
    "    min_size = str(MinLine)\n",
    "    \n",
    "    if syntactic_type < 0:\n",
    "        queryFP = \"select f1.type, f1.name, f1.startline, f1.endline, f2.type, f2.name, f2.startline, f2.endline \"\n",
    "        queryFP += \"from false_positives, functions as f1, functions as f2 \"\n",
    "        queryFP += \"where false_positives.function_id_one = f1.id and false_positives.function_id_two = f2.id and \"\n",
    "        queryFP += \"f1.endline-f1.startline+1>=\" + min_size + \" and f2.endline-f2.startline+1>=\" + min_size\n",
    "        return queryFP\n",
    "    \n",
    "    query = \"select f1.type, f1.name, f1.startline, f1.endline, f2.type, f2.name, f2.startline, f2.endline \"\n",
    "    query += \"from clones, functions as f1, functions as f2 \"\n",
    "    query += \"where clones.function_id_one = f1.id and clones.function_id_two = f2.id and \"\n",
    "    if syntactic_type <= 2:\n",
    "        query += \"syntactic_type=\" + str(syntactic_type)\n",
    "    else:\n",
    "        min_sim = str(min_sim)\n",
    "        max_sim = str(max_sim)\n",
    "        query += min_sim + \"<=similarity_token and similarity_token<\" + max_sim\n",
    "    query += \" and clones.min_size>=\" + min_size\n",
    "    return query"
   ]
  },
  {
   "cell_type": "code",
   "execution_count": 38,
   "metadata": {},
   "outputs": [],
   "source": [
    "def get_clones(syntactic_type, min_sim, max_sim):\n",
    "    \n",
    "    \n",
    "    connection = psycopg2.connect(\"host=localhost port=5432 dbname=bigclonebench user=postgres password=1994MomJul\")\n",
    "    connection.get_backend_pid()\n",
    "    cur=connection.cursor()\n",
    "    cur.execute(\"select * from functions where endline - startline >= 6\")\n",
    "\n",
    "    clones = [row for row in cur]\n",
    "    \n",
    "    cur.close()\n",
    "    connection.close()\n",
    "    \n",
    "    return clones"
   ]
  },
  {
   "cell_type": "code",
   "execution_count": 39,
   "metadata": {},
   "outputs": [],
   "source": [
    "clones = get_clones(1, 1, 1)"
   ]
  },
  {
   "cell_type": "code",
   "execution_count": 40,
   "metadata": {},
   "outputs": [
    {
     "data": {
      "text/plain": [
       "7636873"
      ]
     },
     "execution_count": 40,
     "metadata": {},
     "output_type": "execute_result"
    }
   ],
   "source": [
    "len(clones)"
   ]
  },
  {
   "cell_type": "code",
   "execution_count": 41,
   "metadata": {},
   "outputs": [
    {
     "data": {
      "text/plain": [
       "('21365.java',\n",
       " 'default',\n",
       " 14,\n",
       " 71,\n",
       " 549193,\n",
       " 53,\n",
       " 338,\n",
       " 'sf',\n",
       " 'swig',\n",
       " 'svn',\n",
       " '/tags/rel-2.0.1/Examples/test-suite/java/rename3_runme.java',\n",
       " 'unhandeled')"
      ]
     },
     "execution_count": 41,
     "metadata": {},
     "output_type": "execute_result"
    }
   ],
   "source": [
    "clones[0]"
   ]
  },
  {
   "cell_type": "code",
   "execution_count": 135,
   "metadata": {},
   "outputs": [],
   "source": [
    "def extractWord(string):\n",
    "    inputs = InputStream(string)\n",
    "    lexer = JavaLexer(inputs)\n",
    "    stream = CommonTokenStream(lexer)\n",
    "    \n",
    "    while stream.LA(1) != Token.EOF:\n",
    "        if stream.LT(1).type == JavaLexer.LBRACE:\n",
    "            stream.consume()\n",
    "            break\n",
    "        stream.consume()\n",
    "    \n",
    "    tokens = []\n",
    "    while stream.LA(1) != Token.EOF:\n",
    "        token = stream.LT(1)\n",
    "        if token.type == JavaLexer.IDENTIFIER:\n",
    "            for str in separateIdentifier(token.text):\n",
    "                tokens.append(str.lower())\n",
    "        elif alpahbetPattern.match(token.text):\n",
    "            tokens.append(token.text.lower())\n",
    "        stream.consume()\n",
    "    \n",
    "    return ' '.join(tokens)"
   ]
  },
  {
   "cell_type": "code",
   "execution_count": 155,
   "metadata": {},
   "outputs": [],
   "source": [
    "def getText(clone):\n",
    "    file = os.path.join(root, clone[1], clone[0])\n",
    "    try:\n",
    "        lines = [linecache.getline(file, i) for i in range(clone[2], clone[3]+1)]\n",
    "        return ''.join(lines)\n",
    "    except:\n",
    "        print(file + ' is skip')\n",
    "        return ''"
   ]
  },
  {
   "cell_type": "code",
   "execution_count": 141,
   "metadata": {},
   "outputs": [
    {
     "data": {
      "text/plain": [
       "'xyz int xyz new xyz int not xyz int notxyz new not xyz int xyz op int ptr a xyz op int ptr b xyz op another xyz opt xyz t method xyz t method not xyz notxyz xyz op not xyz xyz opxyz xyz double xyz new xyz double not xyz double notxyz new not xyz double xyz op int ptr a xyz op int ptr b xyz op another xyz opt xyz t method xyz t method not xyz notxyz xyz op not xyz xyz opxyz xyz klass xyz new xyz klass not xyz klass notxyz new not xyz klass xyz op int ptr a xyz op int ptr b xyz op another xyz opt xyz t method new klass xyz t method not xyz notxyz xyz op not xyz xyz opxyz xyz enu xyz new xyz enu not xyz enu notxyz new not xyz enu xyz op int ptr a xyz op int ptr b xyz op another xyz opt xyz t method enu en xyz t method not xyz notxyz xyz op not xyz xyz opxyz abc abc new abc abc methodabc abc klass k new klass abc method klass k abc a abc opabc k abc op klass'"
      ]
     },
     "execution_count": 141,
     "metadata": {},
     "output_type": "execute_result"
    }
   ],
   "source": []
  },
  {
   "cell_type": "code",
   "execution_count": 129,
   "metadata": {},
   "outputs": [
    {
     "data": {
      "text/plain": [
       "['    public static void main(String argv[]) {\\n',\n",
       " '        {\\n',\n",
       " '            XYZInt xyz = new XYZInt();\\n',\n",
       " '            NotXYZInt notxyz = new NotXYZInt();\\n',\n",
       " '            xyz.opIntPtrA();\\n',\n",
       " '            xyz.opIntPtrB();\\n',\n",
       " '            xyz.opAnother2();\\n',\n",
       " '            xyz.opT2();\\n',\n",
       " '            xyz.tMethod2(0);\\n',\n",
       " '            xyz.tMethodNotXYZ2(notxyz);\\n',\n",
       " '            xyz.opNotXYZ2();\\n',\n",
       " '            xyz.opXYZ2();\\n',\n",
       " '        }\\n',\n",
       " '        {\\n',\n",
       " '            XYZDouble xyz = new XYZDouble();\\n',\n",
       " '            NotXYZDouble notxyz = new NotXYZDouble();\\n',\n",
       " '            xyz.opIntPtrA();\\n',\n",
       " '            xyz.opIntPtrB();\\n',\n",
       " '            xyz.opAnother1();\\n',\n",
       " '            xyz.opT1();\\n',\n",
       " '            xyz.tMethod1(0);\\n',\n",
       " '            xyz.tMethodNotXYZ1(notxyz);\\n',\n",
       " '            xyz.opNotXYZ1();\\n',\n",
       " '            xyz.opXYZ1();\\n',\n",
       " '        }\\n',\n",
       " '        {\\n',\n",
       " '            XYZKlass xyz = new XYZKlass();\\n',\n",
       " '            NotXYZKlass notxyz = new NotXYZKlass();\\n',\n",
       " '            xyz.opIntPtrA();\\n',\n",
       " '            xyz.opIntPtrB();\\n',\n",
       " '            xyz.opAnother3();\\n',\n",
       " '            xyz.opT3();\\n',\n",
       " '            xyz.tMethod3(new Klass());\\n',\n",
       " '            xyz.tMethodNotXYZ3(notxyz);\\n',\n",
       " '            xyz.opNotXYZ3();\\n',\n",
       " '            xyz.opXYZ3();\\n',\n",
       " '        }\\n',\n",
       " '        {\\n',\n",
       " '            XYZEnu xyz = new XYZEnu();\\n',\n",
       " '            NotXYZEnu notxyz = new NotXYZEnu();\\n',\n",
       " '            xyz.opIntPtrA();\\n',\n",
       " '            xyz.opIntPtrB();\\n',\n",
       " '            xyz.opAnother4();\\n',\n",
       " '            xyz.opT4();\\n',\n",
       " '            xyz.tMethod4(Enu.En1);\\n',\n",
       " '            xyz.tMethodNotXYZ4(notxyz);\\n',\n",
       " '            xyz.opNotXYZ4();\\n',\n",
       " '            xyz.opXYZ4();\\n',\n",
       " '        }\\n',\n",
       " '        {\\n',\n",
       " '            ABC abc = new ABC();\\n',\n",
       " '            abc.methodABC(abc);\\n',\n",
       " '            Klass k = new Klass();\\n',\n",
       " '            abc.methodKlass(k);\\n',\n",
       " '            ABC a = abc.opABC();\\n',\n",
       " '            k = abc.opKlass();\\n',\n",
       " '        }\\n',\n",
       " '    }\\n']"
      ]
     },
     "execution_count": 129,
     "metadata": {},
     "output_type": "execute_result"
    }
   ],
   "source": [
    "getText(clones[0])"
   ]
  },
  {
   "cell_type": "code",
   "execution_count": 119,
   "metadata": {},
   "outputs": [],
   "source": [
    "getText"
   ]
  },
  {
   "cell_type": "code",
   "execution_count": 157,
   "metadata": {},
   "outputs": [
    {
     "name": "stderr",
     "output_type": "stream",
     "text": [
      "line 6:44 token recognition error at: '\"BeforeCompletion: No\\n'\n",
      "line 7:22 token recognition error at: '\");\\n'\n",
      "line 16:44 token recognition error at: '\"BeforeCompletion: Error\\n'\n",
      "line 17:61 token recognition error at: '\"\\n'\n",
      "line 6:36 token recognition error at: ''  '\n",
      "line 6:40 token recognition error at: ''; '\n"
     ]
    },
    {
     "name": "stdout",
     "output_type": "stream",
     "text": [
      "E:\\k-yokoi\\IJaDataset2.0-full\\dataset\\default\\11756.java is skip\n",
      "E:\\k-yokoi\\IJaDataset2.0-full\\dataset\\selected\\2422498.java is skip\n",
      "E:\\k-yokoi\\IJaDataset2.0-full\\dataset\\selected\\2606099.java is skip\n",
      "E:\\k-yokoi\\IJaDataset2.0-full\\dataset\\selected\\659880.java is skip\n"
     ]
    },
    {
     "name": "stderr",
     "output_type": "stream",
     "text": [
      "line 5:30 token recognition error at: ''s '\n",
      "line 7:30 token recognition error at: ''s '\n"
     ]
    },
    {
     "name": "stdout",
     "output_type": "stream",
     "text": [
      "E:\\k-yokoi\\IJaDataset2.0-full\\dataset\\selected\\1167497.java is skip\n",
      "E:\\k-yokoi\\IJaDataset2.0-full\\dataset\\selected\\1167497.java is skip\n",
      "E:\\k-yokoi\\IJaDataset2.0-full\\dataset\\selected\\1167497.java is skip\n",
      "E:\\k-yokoi\\IJaDataset2.0-full\\dataset\\selected\\1167497.java is skip\n",
      "E:\\k-yokoi\\IJaDataset2.0-full\\dataset\\selected\\1157851.java is skip\n",
      "E:\\k-yokoi\\IJaDataset2.0-full\\dataset\\selected\\1157851.java is skip\n",
      "E:\\k-yokoi\\IJaDataset2.0-full\\dataset\\selected\\1157851.java is skip\n",
      "E:\\k-yokoi\\IJaDataset2.0-full\\dataset\\selected\\1201990.java is skip\n"
     ]
    },
    {
     "name": "stderr",
     "output_type": "stream",
     "text": [
      "line 3:22 token recognition error at: ''s '\n"
     ]
    },
    {
     "name": "stdout",
     "output_type": "stream",
     "text": [
      "E:\\k-yokoi\\IJaDataset2.0-full\\dataset\\selected\\1285077.java is skip\n",
      "E:\\k-yokoi\\IJaDataset2.0-full\\dataset\\selected\\1285077.java is skip\n",
      "E:\\k-yokoi\\IJaDataset2.0-full\\dataset\\selected\\1285077.java is skip\n"
     ]
    },
    {
     "name": "stderr",
     "output_type": "stream",
     "text": [
      "line 1:39 token recognition error at: '#'\n"
     ]
    },
    {
     "name": "stdout",
     "output_type": "stream",
     "text": [
      "E:\\k-yokoi\\IJaDataset2.0-full\\dataset\\selected\\913096.java is skip\n",
      "E:\\k-yokoi\\IJaDataset2.0-full\\dataset\\selected\\913096.java is skip\n",
      "E:\\k-yokoi\\IJaDataset2.0-full\\dataset\\selected\\913096.java is skip\n"
     ]
    },
    {
     "name": "stderr",
     "output_type": "stream",
     "text": [
      "line 4:22 token recognition error at: '\"\\\\Users\\B'\n",
      "line 4:37 token recognition error at: '\\'\n",
      "line 4:47 token recognition error at: '\\'\n",
      "line 4:60 token recognition error at: '\\'\n",
      "line 4:64 token recognition error at: '\\'\n",
      "line 4:69 token recognition error at: '\\'\n",
      "line 4:79 token recognition error at: '\\'\n",
      "line 4:95 token recognition error at: '\");\\n'\n",
      "line 2:33 token recognition error at: '\"\\s'\n",
      "line 2:41 token recognition error at: '\");\\n'\n",
      "line 7:32 token recognition error at: ''in'\n"
     ]
    },
    {
     "name": "stdout",
     "output_type": "stream",
     "text": [
      "E:\\k-yokoi\\IJaDataset2.0-full\\dataset\\selected\\2685260.java is skip\n",
      "E:\\k-yokoi\\IJaDataset2.0-full\\dataset\\selected\\2685260.java is skip\n",
      "E:\\k-yokoi\\IJaDataset2.0-full\\dataset\\selected\\2685260.java is skip\n",
      "E:\\k-yokoi\\IJaDataset2.0-full\\dataset\\selected\\2685260.java is skip\n",
      "E:\\k-yokoi\\IJaDataset2.0-full\\dataset\\selected\\2685260.java is skip\n"
     ]
    },
    {
     "name": "stderr",
     "output_type": "stream",
     "text": [
      "line 2:33 token recognition error at: '#'\n"
     ]
    },
    {
     "name": "stdout",
     "output_type": "stream",
     "text": [
      "E:\\k-yokoi\\IJaDataset2.0-full\\dataset\\selected\\2192787.java is skip\n",
      "E:\\k-yokoi\\IJaDataset2.0-full\\dataset\\selected\\2192787.java is skip\n",
      "E:\\k-yokoi\\IJaDataset2.0-full\\dataset\\selected\\1685203.java is skip\n",
      "E:\\k-yokoi\\IJaDataset2.0-full\\dataset\\selected\\1685203.java is skip\n",
      "E:\\k-yokoi\\IJaDataset2.0-full\\dataset\\selected\\1685203.java is skip\n",
      "E:\\k-yokoi\\IJaDataset2.0-full\\dataset\\selected\\1685203.java is skip\n",
      "E:\\k-yokoi\\IJaDataset2.0-full\\dataset\\selected\\1427542.java is skip\n",
      "E:\\k-yokoi\\IJaDataset2.0-full\\dataset\\selected\\1427542.java is skip\n",
      "E:\\k-yokoi\\IJaDataset2.0-full\\dataset\\selected\\1427542.java is skip\n",
      "E:\\k-yokoi\\IJaDataset2.0-full\\dataset\\selected\\931922.java is skip\n",
      "E:\\k-yokoi\\IJaDataset2.0-full\\dataset\\selected\\1366173.java is skip\n",
      "E:\\k-yokoi\\IJaDataset2.0-full\\dataset\\selected\\1366173.java is skip\n",
      "E:\\k-yokoi\\IJaDataset2.0-full\\dataset\\selected\\1366173.java is skip\n",
      "E:\\k-yokoi\\IJaDataset2.0-full\\dataset\\selected\\1366173.java is skip\n",
      "E:\\k-yokoi\\IJaDataset2.0-full\\dataset\\selected\\1366173.java is skip\n",
      "E:\\k-yokoi\\IJaDataset2.0-full\\dataset\\selected\\2709594.java is skip\n",
      "E:\\k-yokoi\\IJaDataset2.0-full\\dataset\\selected\\572653.java is skip\n",
      "E:\\k-yokoi\\IJaDataset2.0-full\\dataset\\selected\\572653.java is skip\n",
      "E:\\k-yokoi\\IJaDataset2.0-full\\dataset\\selected\\572653.java is skip\n",
      "E:\\k-yokoi\\IJaDataset2.0-full\\dataset\\selected\\572653.java is skip\n",
      "E:\\k-yokoi\\IJaDataset2.0-full\\dataset\\selected\\572653.java is skip\n",
      "E:\\k-yokoi\\IJaDataset2.0-full\\dataset\\selected\\572653.java is skip\n",
      "E:\\k-yokoi\\IJaDataset2.0-full\\dataset\\selected\\572653.java is skip\n",
      "E:\\k-yokoi\\IJaDataset2.0-full\\dataset\\selected\\572653.java is skip\n",
      "E:\\k-yokoi\\IJaDataset2.0-full\\dataset\\selected\\572653.java is skip\n",
      "E:\\k-yokoi\\IJaDataset2.0-full\\dataset\\selected\\572653.java is skip\n",
      "E:\\k-yokoi\\IJaDataset2.0-full\\dataset\\selected\\572653.java is skip\n",
      "E:\\k-yokoi\\IJaDataset2.0-full\\dataset\\selected\\2711101.java is skip\n",
      "E:\\k-yokoi\\IJaDataset2.0-full\\dataset\\selected\\2711101.java is skip\n",
      "E:\\k-yokoi\\IJaDataset2.0-full\\dataset\\selected\\2711101.java is skip\n",
      "E:\\k-yokoi\\IJaDataset2.0-full\\dataset\\selected\\2711101.java is skip\n",
      "E:\\k-yokoi\\IJaDataset2.0-full\\dataset\\selected\\2711101.java is skip\n",
      "E:\\k-yokoi\\IJaDataset2.0-full\\dataset\\selected\\2711101.java is skip\n",
      "E:\\k-yokoi\\IJaDataset2.0-full\\dataset\\selected\\2711101.java is skip\n",
      "E:\\k-yokoi\\IJaDataset2.0-full\\dataset\\selected\\2711101.java is skip\n",
      "E:\\k-yokoi\\IJaDataset2.0-full\\dataset\\selected\\2454235.java is skip\n"
     ]
    },
    {
     "name": "stderr",
     "output_type": "stream",
     "text": [
      "line 13:18 token recognition error at: ''em'\n",
      "line 13:24 token recognition error at: ''.\\n'\n"
     ]
    },
    {
     "name": "stdout",
     "output_type": "stream",
     "text": [
      "E:\\k-yokoi\\IJaDataset2.0-full\\dataset\\selected\\2683681.java is skip\n",
      "E:\\k-yokoi\\IJaDataset2.0-full\\dataset\\selected\\2683681.java is skip\n",
      "E:\\k-yokoi\\IJaDataset2.0-full\\dataset\\selected\\2344182.java is skip\n"
     ]
    },
    {
     "name": "stderr",
     "output_type": "stream",
     "text": [
      "line 23:52 token recognition error at: ''s '\n"
     ]
    },
    {
     "name": "stdout",
     "output_type": "stream",
     "text": [
      "E:\\k-yokoi\\IJaDataset2.0-full\\dataset\\selected\\2147799.java is skip\n",
      "E:\\k-yokoi\\IJaDataset2.0-full\\dataset\\selected\\2147799.java is skip\n",
      "E:\\k-yokoi\\IJaDataset2.0-full\\dataset\\selected\\1963468.java is skip\n",
      "E:\\k-yokoi\\IJaDataset2.0-full\\dataset\\selected\\1963468.java is skip\n",
      "E:\\k-yokoi\\IJaDataset2.0-full\\dataset\\selected\\1963468.java is skip\n",
      "E:\\k-yokoi\\IJaDataset2.0-full\\dataset\\selected\\1963468.java is skip\n",
      "E:\\k-yokoi\\IJaDataset2.0-full\\dataset\\selected\\1963468.java is skip\n",
      "E:\\k-yokoi\\IJaDataset2.0-full\\dataset\\selected\\1963468.java is skip\n",
      "E:\\k-yokoi\\IJaDataset2.0-full\\dataset\\selected\\1963468.java is skip\n",
      "E:\\k-yokoi\\IJaDataset2.0-full\\dataset\\selected\\2028278.java is skip\n",
      "E:\\k-yokoi\\IJaDataset2.0-full\\dataset\\selected\\1666346.java is skip\n",
      "E:\\k-yokoi\\IJaDataset2.0-full\\dataset\\selected\\1666346.java is skip\n",
      "E:\\k-yokoi\\IJaDataset2.0-full\\dataset\\selected\\1666346.java is skip\n",
      "E:\\k-yokoi\\IJaDataset2.0-full\\dataset\\selected\\1666346.java is skip\n",
      "E:\\k-yokoi\\IJaDataset2.0-full\\dataset\\selected\\1666346.java is skip\n"
     ]
    },
    {
     "name": "stderr",
     "output_type": "stream",
     "text": [
      "line 18:75 token recognition error at: '\"Falta un \\)'\n",
      "line 18:87 token recognition error at: '\");\\n'\n",
      "line 23:75 token recognition error at: '\"Falta un \\('\n",
      "line 23:89 token recognition error at: '\");\\n'\n",
      "line 1:27 token recognition error at: ''s '\n",
      "line 2:29 token recognition error at: ''s '\n",
      "line 3:43 token recognition error at: '#'\n",
      "line 2:35 token recognition error at: ''s '\n"
     ]
    },
    {
     "name": "stdout",
     "output_type": "stream",
     "text": [
      "E:\\k-yokoi\\IJaDataset2.0-full\\dataset\\selected\\2487920.java is skip\n"
     ]
    },
    {
     "name": "stderr",
     "output_type": "stream",
     "text": [
      "line 2:27 token recognition error at: '#'\n"
     ]
    },
    {
     "name": "stdout",
     "output_type": "stream",
     "text": [
      "E:\\k-yokoi\\IJaDataset2.0-full\\dataset\\selected\\2296503.java is skip\n",
      "E:\\k-yokoi\\IJaDataset2.0-full\\dataset\\selected\\2296503.java is skip\n",
      "E:\\k-yokoi\\IJaDataset2.0-full\\dataset\\selected\\2296503.java is skip\n",
      "E:\\k-yokoi\\IJaDataset2.0-full\\dataset\\selected\\2296503.java is skip\n",
      "E:\\k-yokoi\\IJaDataset2.0-full\\dataset\\selected\\1003843.java is skip\n",
      "E:\\k-yokoi\\IJaDataset2.0-full\\dataset\\selected\\2582080.java is skip\n",
      "E:\\k-yokoi\\IJaDataset2.0-full\\dataset\\selected\\2582080.java is skip\n",
      "E:\\k-yokoi\\IJaDataset2.0-full\\dataset\\selected\\2582080.java is skip\n",
      "E:\\k-yokoi\\IJaDataset2.0-full\\dataset\\selected\\335609.java is skip\n",
      "E:\\k-yokoi\\IJaDataset2.0-full\\dataset\\selected\\335609.java is skip\n",
      "E:\\k-yokoi\\IJaDataset2.0-full\\dataset\\selected\\335609.java is skip\n",
      "E:\\k-yokoi\\IJaDataset2.0-full\\dataset\\selected\\335609.java is skip\n",
      "E:\\k-yokoi\\IJaDataset2.0-full\\dataset\\selected\\335609.java is skip\n"
     ]
    },
    {
     "name": "stderr",
     "output_type": "stream",
     "text": [
      "line 8:8 token recognition error at: '\"When you use this, send an email to: matumoto@math.keio.ac.jp\\n'\n",
      "line 9:46 token recognition error at: '\"  You might also point\\n'\n"
     ]
    },
    {
     "name": "stdout",
     "output_type": "stream",
     "text": [
      "E:\\k-yokoi\\IJaDataset2.0-full\\dataset\\selected\\1937709.java is skip\n",
      "E:\\k-yokoi\\IJaDataset2.0-full\\dataset\\selected\\1937709.java is skip\n",
      "E:\\k-yokoi\\IJaDataset2.0-full\\dataset\\selected\\1937709.java is skip\n",
      "E:\\k-yokoi\\IJaDataset2.0-full\\dataset\\selected\\1937709.java is skip\n",
      "E:\\k-yokoi\\IJaDataset2.0-full\\dataset\\selected\\1937709.java is skip\n",
      "E:\\k-yokoi\\IJaDataset2.0-full\\dataset\\selected\\1937709.java is skip\n",
      "E:\\k-yokoi\\IJaDataset2.0-full\\dataset\\selected\\1937709.java is skip\n"
     ]
    },
    {
     "name": "stderr",
     "output_type": "stream",
     "text": [
      "line 6:5 token recognition error at: '#'\n"
     ]
    },
    {
     "name": "stdout",
     "output_type": "stream",
     "text": [
      "E:\\k-yokoi\\IJaDataset2.0-full\\dataset\\selected\\2367133.java is skip\n",
      "E:\\k-yokoi\\IJaDataset2.0-full\\dataset\\selected\\2367133.java is skip\n",
      "E:\\k-yokoi\\IJaDataset2.0-full\\dataset\\selected\\1584009.java is skip\n",
      "E:\\k-yokoi\\IJaDataset2.0-full\\dataset\\selected\\1584009.java is skip\n"
     ]
    },
    {
     "name": "stderr",
     "output_type": "stream",
     "text": [
      "line 12:35 token recognition error at: ''t '\n",
      "line 13:75 token recognition error at: ''t '\n",
      "line 16:26 token recognition error at: ''s '\n",
      "line 10:63 token recognition error at: ''t '\n",
      "line 11:18 token recognition error at: ''t '\n"
     ]
    },
    {
     "name": "stdout",
     "output_type": "stream",
     "text": [
      "E:\\k-yokoi\\IJaDataset2.0-full\\dataset\\selected\\2370744.java is skip\n",
      "E:\\k-yokoi\\IJaDataset2.0-full\\dataset\\selected\\2370744.java is skip\n",
      "E:\\k-yokoi\\IJaDataset2.0-full\\dataset\\selected\\2370744.java is skip\n",
      "E:\\k-yokoi\\IJaDataset2.0-full\\dataset\\selected\\2370744.java is skip\n"
     ]
    },
    {
     "name": "stderr",
     "output_type": "stream",
     "text": [
      "line 1:42 token recognition error at: ''s '\n"
     ]
    },
    {
     "name": "stdout",
     "output_type": "stream",
     "text": [
      "E:\\k-yokoi\\IJaDataset2.0-full\\dataset\\selected\\918130.java is skip\n"
     ]
    },
    {
     "name": "stderr",
     "output_type": "stream",
     "text": [
      "line 1:42 token recognition error at: ''s '\n"
     ]
    },
    {
     "name": "stdout",
     "output_type": "stream",
     "text": [
      "E:\\k-yokoi\\IJaDataset2.0-full\\dataset\\selected\\1094007.java is skip\n",
      "E:\\k-yokoi\\IJaDataset2.0-full\\dataset\\selected\\1249081.java is skip\n",
      "E:\\k-yokoi\\IJaDataset2.0-full\\dataset\\selected\\1249081.java is skip\n",
      "E:\\k-yokoi\\IJaDataset2.0-full\\dataset\\selected\\1249081.java is skip\n",
      "E:\\k-yokoi\\IJaDataset2.0-full\\dataset\\selected\\1249081.java is skip\n",
      "E:\\k-yokoi\\IJaDataset2.0-full\\dataset\\selected\\1249081.java is skip\n",
      "E:\\k-yokoi\\IJaDataset2.0-full\\dataset\\selected\\1249081.java is skip\n",
      "E:\\k-yokoi\\IJaDataset2.0-full\\dataset\\selected\\1249081.java is skip\n",
      "E:\\k-yokoi\\IJaDataset2.0-full\\dataset\\selected\\1378081.java is skip\n",
      "E:\\k-yokoi\\IJaDataset2.0-full\\dataset\\selected\\1866877.java is skip\n",
      "E:\\k-yokoi\\IJaDataset2.0-full\\dataset\\selected\\1866877.java is skip\n"
     ]
    },
    {
     "name": "stderr",
     "output_type": "stream",
     "text": [
      "line 9:46 token recognition error at: '\" will be used for rendering.</p>\\n'\n"
     ]
    },
    {
     "name": "stdout",
     "output_type": "stream",
     "text": [
      "E:\\k-yokoi\\IJaDataset2.0-full\\dataset\\selected\\1971314.java is skip\n",
      "E:\\k-yokoi\\IJaDataset2.0-full\\dataset\\selected\\1971314.java is skip\n",
      "E:\\k-yokoi\\IJaDataset2.0-full\\dataset\\selected\\1971314.java is skip\n",
      "E:\\k-yokoi\\IJaDataset2.0-full\\dataset\\selected\\1971314.java is skip\n",
      "E:\\k-yokoi\\IJaDataset2.0-full\\dataset\\selected\\1971314.java is skip\n",
      "E:\\k-yokoi\\IJaDataset2.0-full\\dataset\\selected\\1971314.java is skip\n",
      "E:\\k-yokoi\\IJaDataset2.0-full\\dataset\\selected\\1971314.java is skip\n",
      "E:\\k-yokoi\\IJaDataset2.0-full\\dataset\\selected\\1971314.java is skip\n",
      "E:\\k-yokoi\\IJaDataset2.0-full\\dataset\\selected\\1971314.java is skip\n",
      "E:\\k-yokoi\\IJaDataset2.0-full\\dataset\\selected\\1971314.java is skip\n",
      "E:\\k-yokoi\\IJaDataset2.0-full\\dataset\\selected\\1971314.java is skip\n",
      "E:\\k-yokoi\\IJaDataset2.0-full\\dataset\\selected\\1971314.java is skip\n",
      "E:\\k-yokoi\\IJaDataset2.0-full\\dataset\\selected\\1971314.java is skip\n",
      "E:\\k-yokoi\\IJaDataset2.0-full\\dataset\\selected\\736406.java is skip\n",
      "E:\\k-yokoi\\IJaDataset2.0-full\\dataset\\selected\\746058.java is skip\n",
      "E:\\k-yokoi\\IJaDataset2.0-full\\dataset\\selected\\746058.java is skip\n",
      "E:\\k-yokoi\\IJaDataset2.0-full\\dataset\\selected\\746058.java is skip\n",
      "E:\\k-yokoi\\IJaDataset2.0-full\\dataset\\selected\\746058.java is skip\n",
      "E:\\k-yokoi\\IJaDataset2.0-full\\dataset\\selected\\746058.java is skip\n",
      "E:\\k-yokoi\\IJaDataset2.0-full\\dataset\\selected\\746058.java is skip\n",
      "E:\\k-yokoi\\IJaDataset2.0-full\\dataset\\selected\\1066280.java is skip\n",
      "E:\\k-yokoi\\IJaDataset2.0-full\\dataset\\selected\\1181774.java is skip\n",
      "E:\\k-yokoi\\IJaDataset2.0-full\\dataset\\selected\\1181774.java is skip\n",
      "E:\\k-yokoi\\IJaDataset2.0-full\\dataset\\selected\\1181774.java is skip\n"
     ]
    },
    {
     "name": "stderr",
     "output_type": "stream",
     "text": [
      "line 1:34 token recognition error at: '#'\n"
     ]
    },
    {
     "name": "stdout",
     "output_type": "stream",
     "text": [
      "E:\\k-yokoi\\IJaDataset2.0-full\\dataset\\selected\\1508784.java is skip\n",
      "E:\\k-yokoi\\IJaDataset2.0-full\\dataset\\selected\\1508784.java is skip\n",
      "E:\\k-yokoi\\IJaDataset2.0-full\\dataset\\selected\\993846.java is skip\n",
      "E:\\k-yokoi\\IJaDataset2.0-full\\dataset\\selected\\993846.java is skip\n",
      "E:\\k-yokoi\\IJaDataset2.0-full\\dataset\\selected\\993846.java is skip\n",
      "E:\\k-yokoi\\IJaDataset2.0-full\\dataset\\selected\\993846.java is skip\n",
      "E:\\k-yokoi\\IJaDataset2.0-full\\dataset\\selected\\993846.java is skip\n",
      "E:\\k-yokoi\\IJaDataset2.0-full\\dataset\\selected\\993846.java is skip\n",
      "E:\\k-yokoi\\IJaDataset2.0-full\\dataset\\selected\\993846.java is skip\n",
      "E:\\k-yokoi\\IJaDataset2.0-full\\dataset\\selected\\993846.java is skip\n",
      "E:\\k-yokoi\\IJaDataset2.0-full\\dataset\\selected\\993846.java is skip\n",
      "E:\\k-yokoi\\IJaDataset2.0-full\\dataset\\selected\\993846.java is skip\n",
      "E:\\k-yokoi\\IJaDataset2.0-full\\dataset\\selected\\993846.java is skip\n",
      "E:\\k-yokoi\\IJaDataset2.0-full\\dataset\\selected\\649201.java is skip\n",
      "E:\\k-yokoi\\IJaDataset2.0-full\\dataset\\selected\\649201.java is skip\n"
     ]
    },
    {
     "name": "stderr",
     "output_type": "stream",
     "text": [
      "line 6:54 token recognition error at: ''di'\n",
      "line 6:60 token recognition error at: ''\\n'\n",
      "line 2:45 token recognition error at: '#'\n"
     ]
    },
    {
     "name": "stdout",
     "output_type": "stream",
     "text": [
      "E:\\k-yokoi\\IJaDataset2.0-full\\dataset\\selected\\2419100.java is skip\n",
      "E:\\k-yokoi\\IJaDataset2.0-full\\dataset\\selected\\2419100.java is skip\n",
      "E:\\k-yokoi\\IJaDataset2.0-full\\dataset\\selected\\2419100.java is skip\n",
      "E:\\k-yokoi\\IJaDataset2.0-full\\dataset\\selected\\1105648.java is skip\n",
      "E:\\k-yokoi\\IJaDataset2.0-full\\dataset\\selected\\1210400.java is skip\n",
      "E:\\k-yokoi\\IJaDataset2.0-full\\dataset\\selected\\1551682.java is skip\n"
     ]
    },
    {
     "name": "stderr",
     "output_type": "stream",
     "text": [
      "line 1:34 token recognition error at: '#'\n",
      "line 12:12 token recognition error at: '#'\n",
      "line 13:12 token recognition error at: '#'\n"
     ]
    },
    {
     "name": "stdout",
     "output_type": "stream",
     "text": [
      "E:\\k-yokoi\\IJaDataset2.0-full\\dataset\\selected\\2590518.java is skip\n",
      "E:\\k-yokoi\\IJaDataset2.0-full\\dataset\\selected\\2177999.java is skip\n",
      "E:\\k-yokoi\\IJaDataset2.0-full\\dataset\\selected\\2177999.java is skip\n",
      "E:\\k-yokoi\\IJaDataset2.0-full\\dataset\\selected\\2177999.java is skip\n",
      "E:\\k-yokoi\\IJaDataset2.0-full\\dataset\\selected\\2177999.java is skip\n",
      "E:\\k-yokoi\\IJaDataset2.0-full\\dataset\\selected\\2177999.java is skip\n",
      "E:\\k-yokoi\\IJaDataset2.0-full\\dataset\\selected\\2177999.java is skip\n",
      "E:\\k-yokoi\\IJaDataset2.0-full\\dataset\\selected\\2177999.java is skip\n",
      "E:\\k-yokoi\\IJaDataset2.0-full\\dataset\\selected\\2177999.java is skip\n"
     ]
    },
    {
     "name": "stderr",
     "output_type": "stream",
     "text": [
      "line 1:10 token recognition error at: ''t '\n"
     ]
    },
    {
     "name": "stdout",
     "output_type": "stream",
     "text": [
      "E:\\k-yokoi\\IJaDataset2.0-full\\dataset\\selected\\1048105.java is skip\n",
      "E:\\k-yokoi\\IJaDataset2.0-full\\dataset\\selected\\1048105.java is skip\n",
      "E:\\k-yokoi\\IJaDataset2.0-full\\dataset\\selected\\1048105.java is skip\n",
      "E:\\k-yokoi\\IJaDataset2.0-full\\dataset\\selected\\1048105.java is skip\n",
      "E:\\k-yokoi\\IJaDataset2.0-full\\dataset\\selected\\56690.java is skip\n"
     ]
    },
    {
     "name": "stderr",
     "output_type": "stream",
     "text": [
      "line 1:28 token recognition error at: '#'\n",
      "line 1:34 token recognition error at: '#'\n"
     ]
    },
    {
     "name": "stdout",
     "output_type": "stream",
     "text": [
      "E:\\k-yokoi\\IJaDataset2.0-full\\dataset\\selected\\262859.java is skip\n",
      "E:\\k-yokoi\\IJaDataset2.0-full\\dataset\\selected\\1537117.java is skip\n"
     ]
    },
    {
     "name": "stderr",
     "output_type": "stream",
     "text": [
      "line 1:19 token recognition error at: ''s '\n"
     ]
    },
    {
     "name": "stdout",
     "output_type": "stream",
     "text": [
      "E:\\k-yokoi\\IJaDataset2.0-full\\dataset\\selected\\587793.java is skip\n"
     ]
    },
    {
     "name": "stderr",
     "output_type": "stream",
     "text": [
      "line 1:43 token recognition error at: ''s '\n"
     ]
    },
    {
     "name": "stdout",
     "output_type": "stream",
     "text": [
      "E:\\k-yokoi\\IJaDataset2.0-full\\dataset\\selected\\615055.java is skip\n",
      "E:\\k-yokoi\\IJaDataset2.0-full\\dataset\\selected\\615055.java is skip\n",
      "E:\\k-yokoi\\IJaDataset2.0-full\\dataset\\selected\\339455.java is skip\n",
      "E:\\k-yokoi\\IJaDataset2.0-full\\dataset\\selected\\443973.java is skip\n",
      "E:\\k-yokoi\\IJaDataset2.0-full\\dataset\\selected\\917307.java is skip\n",
      "E:\\k-yokoi\\IJaDataset2.0-full\\dataset\\selected\\917307.java is skip\n",
      "E:\\k-yokoi\\IJaDataset2.0-full\\dataset\\selected\\917307.java is skip\n",
      "E:\\k-yokoi\\IJaDataset2.0-full\\dataset\\selected\\917307.java is skip\n",
      "E:\\k-yokoi\\IJaDataset2.0-full\\dataset\\selected\\917307.java is skip\n",
      "E:\\k-yokoi\\IJaDataset2.0-full\\dataset\\selected\\917307.java is skip\n"
     ]
    },
    {
     "name": "stderr",
     "output_type": "stream",
     "text": [
      "line 2:23 token recognition error at: '#'\n",
      "line 4:19 token recognition error at: ''To'\n",
      "line 4:22 token recognition error at: '' t'\n",
      "line 6:31 token recognition error at: ''To'\n",
      "line 6:39 token recognition error at: '' >'\n",
      "line 6:43 token recognition error at: ''Fr'\n",
      "line 6:53 token recognition error at: '' a'\n",
      "line 7:18 token recognition error at: '#'\n"
     ]
    },
    {
     "name": "stdout",
     "output_type": "stream",
     "text": [
      "E:\\k-yokoi\\IJaDataset2.0-full\\dataset\\selected\\1923171.java is skip\n",
      "E:\\k-yokoi\\IJaDataset2.0-full\\dataset\\selected\\1053892.java is skip\n",
      "E:\\k-yokoi\\IJaDataset2.0-full\\dataset\\selected\\2187201.java is skip\n",
      "E:\\k-yokoi\\IJaDataset2.0-full\\dataset\\selected\\2173922.java is skip\n",
      "E:\\k-yokoi\\IJaDataset2.0-full\\dataset\\selected\\2173922.java is skip\n",
      "E:\\k-yokoi\\IJaDataset2.0-full\\dataset\\selected\\2173922.java is skip\n",
      "E:\\k-yokoi\\IJaDataset2.0-full\\dataset\\selected\\2173922.java is skip\n",
      "E:\\k-yokoi\\IJaDataset2.0-full\\dataset\\selected\\2173922.java is skip\n",
      "E:\\k-yokoi\\IJaDataset2.0-full\\dataset\\selected\\2173922.java is skip\n",
      "E:\\k-yokoi\\IJaDataset2.0-full\\dataset\\selected\\2173922.java is skip\n",
      "E:\\k-yokoi\\IJaDataset2.0-full\\dataset\\selected\\2173922.java is skip\n",
      "E:\\k-yokoi\\IJaDataset2.0-full\\dataset\\selected\\1440710.java is skip\n",
      "E:\\k-yokoi\\IJaDataset2.0-full\\dataset\\selected\\1440710.java is skip\n",
      "E:\\k-yokoi\\IJaDataset2.0-full\\dataset\\selected\\1440710.java is skip\n",
      "E:\\k-yokoi\\IJaDataset2.0-full\\dataset\\selected\\1440710.java is skip\n",
      "E:\\k-yokoi\\IJaDataset2.0-full\\dataset\\selected\\1440710.java is skip\n",
      "E:\\k-yokoi\\IJaDataset2.0-full\\dataset\\selected\\1440710.java is skip\n"
     ]
    },
    {
     "name": "stderr",
     "output_type": "stream",
     "text": [
      "line 3:26 token recognition error at: '#'\n",
      "line 40:39 token recognition error at: ''el'\n",
      "line 40:47 token recognition error at: '', '\n",
      "line 1:13 token recognition error at: '#'\n",
      "line 8:54 token recognition error at: ''s '\n",
      "line 11:63 token recognition error at: ''t '\n",
      "line 12:18 token recognition error at: ''t '\n"
     ]
    },
    {
     "name": "stdout",
     "output_type": "stream",
     "text": [
      "E:\\k-yokoi\\IJaDataset2.0-full\\dataset\\selected\\1911352.java is skip\n",
      "E:\\k-yokoi\\IJaDataset2.0-full\\dataset\\selected\\1911352.java is skip\n",
      "E:\\k-yokoi\\IJaDataset2.0-full\\dataset\\selected\\1911352.java is skip\n",
      "E:\\k-yokoi\\IJaDataset2.0-full\\dataset\\selected\\1911352.java is skip\n",
      "E:\\k-yokoi\\IJaDataset2.0-full\\dataset\\selected\\1911352.java is skip\n"
     ]
    },
    {
     "name": "stderr",
     "output_type": "stream",
     "text": [
      "line 4:23 token recognition error at: ''s.'\n"
     ]
    },
    {
     "name": "stdout",
     "output_type": "stream",
     "text": [
      "E:\\k-yokoi\\IJaDataset2.0-full\\dataset\\selected\\787534.java is skip\n",
      "E:\\k-yokoi\\IJaDataset2.0-full\\dataset\\selected\\787534.java is skip\n",
      "E:\\k-yokoi\\IJaDataset2.0-full\\dataset\\selected\\787534.java is skip\n"
     ]
    },
    {
     "name": "stderr",
     "output_type": "stream",
     "text": [
      "line 42:9 token recognition error at: '#'\n",
      "line 42:89 token recognition error at: ''t '\n"
     ]
    },
    {
     "name": "stdout",
     "output_type": "stream",
     "text": [
      "E:\\k-yokoi\\IJaDataset2.0-full\\dataset\\selected\\1312054.java is skip\n",
      "E:\\k-yokoi\\IJaDataset2.0-full\\dataset\\selected\\1312054.java is skip\n",
      "E:\\k-yokoi\\IJaDataset2.0-full\\dataset\\selected\\1312054.java is skip\n",
      "E:\\k-yokoi\\IJaDataset2.0-full\\dataset\\selected\\1312054.java is skip\n",
      "E:\\k-yokoi\\IJaDataset2.0-full\\dataset\\selected\\1312054.java is skip\n",
      "E:\\k-yokoi\\IJaDataset2.0-full\\dataset\\selected\\1312054.java is skip\n",
      "E:\\k-yokoi\\IJaDataset2.0-full\\dataset\\selected\\1312054.java is skip\n",
      "E:\\k-yokoi\\IJaDataset2.0-full\\dataset\\selected\\1312054.java is skip\n",
      "E:\\k-yokoi\\IJaDataset2.0-full\\dataset\\selected\\1312054.java is skip\n",
      "E:\\k-yokoi\\IJaDataset2.0-full\\dataset\\default\\126435.java is skip\n",
      "E:\\k-yokoi\\IJaDataset2.0-full\\dataset\\default\\126435.java is skip\n",
      "E:\\k-yokoi\\IJaDataset2.0-full\\dataset\\default\\126435.java is skip\n",
      "E:\\k-yokoi\\IJaDataset2.0-full\\dataset\\default\\126435.java is skip\n",
      "E:\\k-yokoi\\IJaDataset2.0-full\\dataset\\default\\126435.java is skip\n",
      "E:\\k-yokoi\\IJaDataset2.0-full\\dataset\\default\\26451.java is skip\n",
      "E:\\k-yokoi\\IJaDataset2.0-full\\dataset\\default\\26451.java is skip\n",
      "E:\\k-yokoi\\IJaDataset2.0-full\\dataset\\default\\26451.java is skip\n"
     ]
    },
    {
     "name": "stderr",
     "output_type": "stream",
     "text": [
      "line 6:36 token recognition error at: ''  '\n",
      "line 6:40 token recognition error at: ''; '\n"
     ]
    },
    {
     "ename": "UnicodeEncodeError",
     "evalue": "'cp932' codec can't encode character '\\u4f60' in position 23: illegal multibyte sequence",
     "output_type": "error",
     "traceback": [
      "\u001b[1;31m---------------------------------------------------------------------------\u001b[0m",
      "\u001b[1;31mUnicodeEncodeError\u001b[0m                        Traceback (most recent call last)",
      "\u001b[1;32m<ipython-input-157-303e389bc222>\u001b[0m in \u001b[0;36m<module>\u001b[1;34m\u001b[0m\n\u001b[0;32m     16\u001b[0m     \u001b[0mfile\u001b[0m \u001b[1;33m=\u001b[0m \u001b[0mos\u001b[0m\u001b[1;33m.\u001b[0m\u001b[0mpath\u001b[0m\u001b[1;33m.\u001b[0m\u001b[0mjoin\u001b[0m\u001b[1;33m(\u001b[0m\u001b[0mdest\u001b[0m\u001b[1;33m,\u001b[0m \u001b[0mclone\u001b[0m\u001b[1;33m[\u001b[0m\u001b[1;36m1\u001b[0m\u001b[1;33m]\u001b[0m\u001b[1;33m,\u001b[0m \u001b[0mclone\u001b[0m\u001b[1;33m[\u001b[0m\u001b[1;36m0\u001b[0m\u001b[1;33m]\u001b[0m\u001b[1;33m)\u001b[0m\u001b[1;33m\u001b[0m\u001b[1;33m\u001b[0m\u001b[0m\n\u001b[0;32m     17\u001b[0m     \u001b[1;32mwith\u001b[0m \u001b[0mopen\u001b[0m\u001b[1;33m(\u001b[0m\u001b[0mfile\u001b[0m\u001b[1;33m,\u001b[0m \u001b[0mmode\u001b[0m\u001b[1;33m=\u001b[0m\u001b[1;34m'a'\u001b[0m\u001b[1;33m)\u001b[0m \u001b[1;32mas\u001b[0m \u001b[0mf\u001b[0m\u001b[1;33m:\u001b[0m\u001b[1;33m\u001b[0m\u001b[1;33m\u001b[0m\u001b[0m\n\u001b[1;32m---> 18\u001b[1;33m         \u001b[0mf\u001b[0m\u001b[1;33m.\u001b[0m\u001b[0mwrite\u001b[0m\u001b[1;33m(\u001b[0m\u001b[0mstr\u001b[0m\u001b[1;33m(\u001b[0m\u001b[0mclone\u001b[0m\u001b[1;33m[\u001b[0m\u001b[1;36m4\u001b[0m\u001b[1;33m]\u001b[0m\u001b[1;33m)\u001b[0m \u001b[1;33m+\u001b[0m \u001b[1;34m','\u001b[0m \u001b[1;33m+\u001b[0m \u001b[0mextractWord\u001b[0m\u001b[1;33m(\u001b[0m\u001b[0mgetText\u001b[0m\u001b[1;33m(\u001b[0m\u001b[0mclone\u001b[0m\u001b[1;33m)\u001b[0m\u001b[1;33m)\u001b[0m \u001b[1;33m+\u001b[0m \u001b[1;34m'\\n'\u001b[0m\u001b[1;33m)\u001b[0m\u001b[1;33m\u001b[0m\u001b[1;33m\u001b[0m\u001b[0m\n\u001b[0m",
      "\u001b[1;31mUnicodeEncodeError\u001b[0m: 'cp932' codec can't encode character '\\u4f60' in position 23: illegal multibyte sequence"
     ]
    }
   ],
   "source": [
    "import shutil\n",
    "\n",
    "if os.path.exists(dest + '\\\\default'):\n",
    "    shutil.rmtree(dest + '\\\\default')\n",
    "os.mkdir(dest + '\\\\default')\n",
    "\n",
    "if os.path.exists(dest + '\\\\sample'):\n",
    "    shutil.rmtree(dest + '\\\\sample')\n",
    "os.mkdir(dest + '\\\\sample')\n",
    "\n",
    "if os.path.exists(dest + '\\\\selected'):\n",
    "    shutil.rmtree(dest + '\\\\selected')\n",
    "os.mkdir(dest + '\\\\selected')\n",
    "\n",
    "for clone in clones:\n",
    "    file = os.path.join(dest, clone[1], clone[0])\n",
    "    with open(file, mode='a') as f:\n",
    "        f.write(str(clone[4]) + ',' + extractWord(getText(clone)) + '\\n')"
   ]
  },
  {
   "cell_type": "code",
   "execution_count": null,
   "metadata": {},
   "outputs": [],
   "source": [
    "!slack-post BicCloneBench_finish"
   ]
  },
  {
   "cell_type": "code",
   "execution_count": 191,
   "metadata": {},
   "outputs": [
    {
     "name": "stdout",
     "output_type": "stream",
     "text": [
      "700\n"
     ]
    }
   ],
   "source": [
    "import traceback\n",
    "import io\n",
    "#io.opne(filename, \"r\", encoding=\"utf_8_sig\")\n",
    "with open(\"E:\\k-yokoi\\IJaDataset2.0-full-functions2\\error.txt\") as f:\n",
    "    lines = f.read().split('\\n')\n",
    "    \n",
    "count = 0\n",
    "for line in lines:\n",
    "    col = line.split(',')\n",
    "    file = col[0]\n",
    "    startline = int(col[1])\n",
    "    endline = int(col[2])\n",
    "    line = getline(file, startline, endline)\n",
    "    \n",
    "    except UnicodeDecodeError:\n",
    "        file\n",
    "    except:\n",
    "        traceback.print_exec()\n",
    "        pass\n",
    "\n",
    "print(count)"
   ]
  },
  {
   "cell_type": "code",
   "execution_count": 194,
   "metadata": {},
   "outputs": [],
   "source": [
    "def getline(file, startline, endline):\n",
    "    with io.open(file, 'rt', encoding='latin1') as f:\n",
    "            lines = f.read().split('\\n')\n",
    "    lines2 = []\n",
    "    for i in range(startline, endline+1):\n",
    "        lines2.append(lines[i]-1)\n",
    "    return ' '.join(lines2)"
   ]
  },
  {
   "cell_type": "code",
   "execution_count": 177,
   "metadata": {},
   "outputs": [],
   "source": [
    "lines.sort()"
   ]
  },
  {
   "cell_type": "code",
   "execution_count": 179,
   "metadata": {
    "scrolled": true
   },
   "outputs": [
    {
     "name": "stdout",
     "output_type": "stream",
     "text": [
      "E:\\k-yokoi\\IJaDataset2.0-full\\dataset\\default\\11756.java,33,70\n",
      "E:\\k-yokoi\\IJaDataset2.0-full\\dataset\\default\\126435.java,103,113\n",
      "E:\\k-yokoi\\IJaDataset2.0-full\\dataset\\default\\126435.java,116,171\n",
      "E:\\k-yokoi\\IJaDataset2.0-full\\dataset\\default\\126435.java,32,38\n",
      "E:\\k-yokoi\\IJaDataset2.0-full\\dataset\\default\\126435.java,44,57\n",
      "E:\\k-yokoi\\IJaDataset2.0-full\\dataset\\default\\126435.java,63,70\n",
      "E:\\k-yokoi\\IJaDataset2.0-full\\dataset\\default\\126435.java,76,89\n",
      "E:\\k-yokoi\\IJaDataset2.0-full\\dataset\\default\\21484.java,33,70\n",
      "E:\\k-yokoi\\IJaDataset2.0-full\\dataset\\default\\26451.java,181,208\n",
      "E:\\k-yokoi\\IJaDataset2.0-full\\dataset\\default\\26451.java,234,305\n",
      "E:\\k-yokoi\\IJaDataset2.0-full\\dataset\\default\\26451.java,316,329\n",
      "E:\\k-yokoi\\IJaDataset2.0-full\\dataset\\default\\26451.java,340,349\n",
      "E:\\k-yokoi\\IJaDataset2.0-full\\dataset\\default\\26451.java,36,73\n",
      "E:\\k-yokoi\\IJaDataset2.0-full\\dataset\\default\\26451.java,360,369\n",
      "E:\\k-yokoi\\IJaDataset2.0-full\\dataset\\default\\26451.java,90,162\n",
      "E:\\k-yokoi\\IJaDataset2.0-full\\dataset\\default\\70632.java,556,565\n",
      "E:\\k-yokoi\\IJaDataset2.0-full\\dataset\\selected\\1003843.java,16,42\n",
      "E:\\k-yokoi\\IJaDataset2.0-full\\dataset\\selected\\1048105.java,106,191\n",
      "E:\\k-yokoi\\IJaDataset2.0-full\\dataset\\selected\\1048105.java,32,50\n",
      "E:\\k-yokoi\\IJaDataset2.0-full\\dataset\\selected\\1048105.java,60,73\n",
      "E:\\k-yokoi\\IJaDataset2.0-full\\dataset\\selected\\1048105.java,75,104\n",
      "E:\\k-yokoi\\IJaDataset2.0-full\\dataset\\selected\\1053892.java,295,392\n",
      "E:\\k-yokoi\\IJaDataset2.0-full\\dataset\\selected\\1053892.java,397,406\n",
      "E:\\k-yokoi\\IJaDataset2.0-full\\dataset\\selected\\1053892.java,411,427\n",
      "E:\\k-yokoi\\IJaDataset2.0-full\\dataset\\selected\\1053892.java,432,442\n",
      "E:\\k-yokoi\\IJaDataset2.0-full\\dataset\\selected\\1053892.java,450,460\n",
      "E:\\k-yokoi\\IJaDataset2.0-full\\dataset\\selected\\1066280.java,121,154\n",
      "E:\\k-yokoi\\IJaDataset2.0-full\\dataset\\selected\\1066280.java,156,184\n",
      "E:\\k-yokoi\\IJaDataset2.0-full\\dataset\\selected\\1066280.java,214,249\n",
      "E:\\k-yokoi\\IJaDataset2.0-full\\dataset\\selected\\1066280.java,263,270\n",
      "E:\\k-yokoi\\IJaDataset2.0-full\\dataset\\selected\\1066280.java,272,347\n",
      "E:\\k-yokoi\\IJaDataset2.0-full\\dataset\\selected\\1066280.java,50,56\n",
      "E:\\k-yokoi\\IJaDataset2.0-full\\dataset\\selected\\1066280.java,73,93\n",
      "E:\\k-yokoi\\IJaDataset2.0-full\\dataset\\selected\\1066280.java,95,119\n",
      "E:\\k-yokoi\\IJaDataset2.0-full\\dataset\\selected\\1094007.java,11,43\n",
      "E:\\k-yokoi\\IJaDataset2.0-full\\dataset\\selected\\1105648.java,20,28\n",
      "E:\\k-yokoi\\IJaDataset2.0-full\\dataset\\selected\\1157851.java,22,46\n",
      "E:\\k-yokoi\\IJaDataset2.0-full\\dataset\\selected\\1157851.java,48,55\n",
      "E:\\k-yokoi\\IJaDataset2.0-full\\dataset\\selected\\1157851.java,57,65\n",
      "E:\\k-yokoi\\IJaDataset2.0-full\\dataset\\selected\\1167497.java,1064,1084\n",
      "E:\\k-yokoi\\IJaDataset2.0-full\\dataset\\selected\\1167497.java,1085,1113\n",
      "E:\\k-yokoi\\IJaDataset2.0-full\\dataset\\selected\\1167497.java,1114,1234\n",
      "E:\\k-yokoi\\IJaDataset2.0-full\\dataset\\selected\\1167497.java,1240,1260\n",
      "E:\\k-yokoi\\IJaDataset2.0-full\\dataset\\selected\\1167497.java,1261,1326\n",
      "E:\\k-yokoi\\IJaDataset2.0-full\\dataset\\selected\\1167497.java,1328,1337\n",
      "E:\\k-yokoi\\IJaDataset2.0-full\\dataset\\selected\\1167497.java,1339,1366\n",
      "E:\\k-yokoi\\IJaDataset2.0-full\\dataset\\selected\\1167497.java,1369,1393\n",
      "E:\\k-yokoi\\IJaDataset2.0-full\\dataset\\selected\\1167497.java,1395,1409\n",
      "E:\\k-yokoi\\IJaDataset2.0-full\\dataset\\selected\\1167497.java,1411,1432\n",
      "E:\\k-yokoi\\IJaDataset2.0-full\\dataset\\selected\\1167497.java,1434,1444\n",
      "E:\\k-yokoi\\IJaDataset2.0-full\\dataset\\selected\\1167497.java,450,462\n",
      "E:\\k-yokoi\\IJaDataset2.0-full\\dataset\\selected\\1167497.java,463,497\n",
      "E:\\k-yokoi\\IJaDataset2.0-full\\dataset\\selected\\1167497.java,499,510\n",
      "E:\\k-yokoi\\IJaDataset2.0-full\\dataset\\selected\\1167497.java,511,530\n",
      "E:\\k-yokoi\\IJaDataset2.0-full\\dataset\\selected\\1167497.java,532,551\n",
      "E:\\k-yokoi\\IJaDataset2.0-full\\dataset\\selected\\1167497.java,617,726\n",
      "E:\\k-yokoi\\IJaDataset2.0-full\\dataset\\selected\\1167497.java,730,833\n",
      "E:\\k-yokoi\\IJaDataset2.0-full\\dataset\\selected\\1167497.java,865,924\n",
      "E:\\k-yokoi\\IJaDataset2.0-full\\dataset\\selected\\1167497.java,927,991\n",
      "E:\\k-yokoi\\IJaDataset2.0-full\\dataset\\selected\\1167497.java,995,1046\n",
      "E:\\k-yokoi\\IJaDataset2.0-full\\dataset\\selected\\1181774.java,106,124\n",
      "E:\\k-yokoi\\IJaDataset2.0-full\\dataset\\selected\\1181774.java,28,79\n",
      "E:\\k-yokoi\\IJaDataset2.0-full\\dataset\\selected\\1181774.java,81,104\n",
      "E:\\k-yokoi\\IJaDataset2.0-full\\dataset\\selected\\1201990.java,25,34\n",
      "E:\\k-yokoi\\IJaDataset2.0-full\\dataset\\selected\\1210400.java,105,114\n",
      "E:\\k-yokoi\\IJaDataset2.0-full\\dataset\\selected\\1210400.java,116,133\n",
      "E:\\k-yokoi\\IJaDataset2.0-full\\dataset\\selected\\1210400.java,135,146\n",
      "E:\\k-yokoi\\IJaDataset2.0-full\\dataset\\selected\\1210400.java,148,154\n",
      "E:\\k-yokoi\\IJaDataset2.0-full\\dataset\\selected\\1210400.java,39,47\n",
      "E:\\k-yokoi\\IJaDataset2.0-full\\dataset\\selected\\1210400.java,59,65\n",
      "E:\\k-yokoi\\IJaDataset2.0-full\\dataset\\selected\\1210400.java,97,103\n",
      "E:\\k-yokoi\\IJaDataset2.0-full\\dataset\\selected\\1226899.java,59,93\n",
      "E:\\k-yokoi\\IJaDataset2.0-full\\dataset\\selected\\1249081.java,154,160\n",
      "E:\\k-yokoi\\IJaDataset2.0-full\\dataset\\selected\\1249081.java,166,172\n",
      "E:\\k-yokoi\\IJaDataset2.0-full\\dataset\\selected\\1249081.java,179,198\n",
      "E:\\k-yokoi\\IJaDataset2.0-full\\dataset\\selected\\1249081.java,204,223\n",
      "E:\\k-yokoi\\IJaDataset2.0-full\\dataset\\selected\\1249081.java,228,235\n",
      "E:\\k-yokoi\\IJaDataset2.0-full\\dataset\\selected\\1249081.java,240,248\n",
      "E:\\k-yokoi\\IJaDataset2.0-full\\dataset\\selected\\1249081.java,251,281\n",
      "E:\\k-yokoi\\IJaDataset2.0-full\\dataset\\selected\\1249081.java,294,302\n",
      "E:\\k-yokoi\\IJaDataset2.0-full\\dataset\\selected\\1249081.java,304,310\n",
      "E:\\k-yokoi\\IJaDataset2.0-full\\dataset\\selected\\1249081.java,87,96\n",
      "E:\\k-yokoi\\IJaDataset2.0-full\\dataset\\selected\\1249081.java,99,110\n",
      "E:\\k-yokoi\\IJaDataset2.0-full\\dataset\\selected\\1285077.java,25,80\n",
      "E:\\k-yokoi\\IJaDataset2.0-full\\dataset\\selected\\1285077.java,57,76\n",
      "E:\\k-yokoi\\IJaDataset2.0-full\\dataset\\selected\\1285077.java,87,118\n",
      "E:\\k-yokoi\\IJaDataset2.0-full\\dataset\\selected\\1312054.java,1001,1017\n",
      "E:\\k-yokoi\\IJaDataset2.0-full\\dataset\\selected\\1312054.java,1020,1042\n",
      "E:\\k-yokoi\\IJaDataset2.0-full\\dataset\\selected\\1312054.java,1045,1072\n",
      "E:\\k-yokoi\\IJaDataset2.0-full\\dataset\\selected\\1312054.java,1075,1091\n",
      "E:\\k-yokoi\\IJaDataset2.0-full\\dataset\\selected\\1312054.java,1094,1145\n",
      "E:\\k-yokoi\\IJaDataset2.0-full\\dataset\\selected\\1312054.java,1148,1159\n",
      "E:\\k-yokoi\\IJaDataset2.0-full\\dataset\\selected\\1312054.java,1180,1190\n",
      "E:\\k-yokoi\\IJaDataset2.0-full\\dataset\\selected\\1312054.java,1194,1207\n",
      "E:\\k-yokoi\\IJaDataset2.0-full\\dataset\\selected\\1312054.java,1210,1227\n",
      "E:\\k-yokoi\\IJaDataset2.0-full\\dataset\\selected\\1312054.java,1230,1292\n",
      "E:\\k-yokoi\\IJaDataset2.0-full\\dataset\\selected\\1312054.java,1306,1736\n",
      "E:\\k-yokoi\\IJaDataset2.0-full\\dataset\\selected\\1312054.java,137,145\n",
      "E:\\k-yokoi\\IJaDataset2.0-full\\dataset\\selected\\1312054.java,148,161\n",
      "E:\\k-yokoi\\IJaDataset2.0-full\\dataset\\selected\\1312054.java,168,190\n",
      "E:\\k-yokoi\\IJaDataset2.0-full\\dataset\\selected\\1312054.java,193,522\n",
      "E:\\k-yokoi\\IJaDataset2.0-full\\dataset\\selected\\1312054.java,383,390\n",
      "E:\\k-yokoi\\IJaDataset2.0-full\\dataset\\selected\\1312054.java,395,402\n",
      "E:\\k-yokoi\\IJaDataset2.0-full\\dataset\\selected\\1312054.java,407,414\n",
      "E:\\k-yokoi\\IJaDataset2.0-full\\dataset\\selected\\1312054.java,419,426\n",
      "E:\\k-yokoi\\IJaDataset2.0-full\\dataset\\selected\\1312054.java,484,493\n",
      "E:\\k-yokoi\\IJaDataset2.0-full\\dataset\\selected\\1312054.java,525,536\n",
      "E:\\k-yokoi\\IJaDataset2.0-full\\dataset\\selected\\1312054.java,539,550\n",
      "E:\\k-yokoi\\IJaDataset2.0-full\\dataset\\selected\\1312054.java,553,640\n",
      "E:\\k-yokoi\\IJaDataset2.0-full\\dataset\\selected\\1312054.java,643,663\n",
      "E:\\k-yokoi\\IJaDataset2.0-full\\dataset\\selected\\1312054.java,671,704\n",
      "E:\\k-yokoi\\IJaDataset2.0-full\\dataset\\selected\\1312054.java,707,717\n",
      "E:\\k-yokoi\\IJaDataset2.0-full\\dataset\\selected\\1312054.java,720,726\n",
      "E:\\k-yokoi\\IJaDataset2.0-full\\dataset\\selected\\1312054.java,740,758\n",
      "E:\\k-yokoi\\IJaDataset2.0-full\\dataset\\selected\\1312054.java,761,771\n",
      "E:\\k-yokoi\\IJaDataset2.0-full\\dataset\\selected\\1312054.java,774,782\n",
      "E:\\k-yokoi\\IJaDataset2.0-full\\dataset\\selected\\1312054.java,785,798\n",
      "E:\\k-yokoi\\IJaDataset2.0-full\\dataset\\selected\\1312054.java,801,817\n",
      "E:\\k-yokoi\\IJaDataset2.0-full\\dataset\\selected\\1312054.java,821,841\n",
      "E:\\k-yokoi\\IJaDataset2.0-full\\dataset\\selected\\1312054.java,843,925\n",
      "E:\\k-yokoi\\IJaDataset2.0-full\\dataset\\selected\\1312054.java,928,968\n",
      "E:\\k-yokoi\\IJaDataset2.0-full\\dataset\\selected\\1312054.java,971,998\n",
      "E:\\k-yokoi\\IJaDataset2.0-full\\dataset\\selected\\1350461.java,106,132\n",
      "E:\\k-yokoi\\IJaDataset2.0-full\\dataset\\selected\\1350461.java,133,148\n",
      "E:\\k-yokoi\\IJaDataset2.0-full\\dataset\\selected\\1350461.java,56,105\n",
      "E:\\k-yokoi\\IJaDataset2.0-full\\dataset\\selected\\1366173.java,100,398\n",
      "E:\\k-yokoi\\IJaDataset2.0-full\\dataset\\selected\\1366173.java,1039,1045\n",
      "E:\\k-yokoi\\IJaDataset2.0-full\\dataset\\selected\\1366173.java,16,32\n",
      "E:\\k-yokoi\\IJaDataset2.0-full\\dataset\\selected\\1366173.java,38,46\n",
      "E:\\k-yokoi\\IJaDataset2.0-full\\dataset\\selected\\1366173.java,403,437\n",
      "E:\\k-yokoi\\IJaDataset2.0-full\\dataset\\selected\\1366173.java,439,462\n",
      "E:\\k-yokoi\\IJaDataset2.0-full\\dataset\\selected\\1366173.java,469,492\n",
      "E:\\k-yokoi\\IJaDataset2.0-full\\dataset\\selected\\1366173.java,531,537\n",
      "E:\\k-yokoi\\IJaDataset2.0-full\\dataset\\selected\\1366173.java,543,563\n",
      "E:\\k-yokoi\\IJaDataset2.0-full\\dataset\\selected\\1366173.java,565,592\n",
      "E:\\k-yokoi\\IJaDataset2.0-full\\dataset\\selected\\1366173.java,594,607\n",
      "E:\\k-yokoi\\IJaDataset2.0-full\\dataset\\selected\\1366173.java,618,811\n",
      "E:\\k-yokoi\\IJaDataset2.0-full\\dataset\\selected\\1366173.java,842,907\n",
      "E:\\k-yokoi\\IJaDataset2.0-full\\dataset\\selected\\1366173.java,909,925\n",
      "E:\\k-yokoi\\IJaDataset2.0-full\\dataset\\selected\\1366173.java,927,935\n",
      "E:\\k-yokoi\\IJaDataset2.0-full\\dataset\\selected\\1366173.java,943,971\n",
      "E:\\k-yokoi\\IJaDataset2.0-full\\dataset\\selected\\1378081.java,17,39\n",
      "E:\\k-yokoi\\IJaDataset2.0-full\\dataset\\selected\\1378081.java,48,61\n",
      "E:\\k-yokoi\\IJaDataset2.0-full\\dataset\\selected\\1378081.java,70,83\n",
      "E:\\k-yokoi\\IJaDataset2.0-full\\dataset\\selected\\1381397.java,71,79\n",
      "E:\\k-yokoi\\IJaDataset2.0-full\\dataset\\selected\\1427542.java,21,223\n",
      "E:\\k-yokoi\\IJaDataset2.0-full\\dataset\\selected\\1427542.java,225,238\n",
      "E:\\k-yokoi\\IJaDataset2.0-full\\dataset\\selected\\1427542.java,240,271\n",
      "E:\\k-yokoi\\IJaDataset2.0-full\\dataset\\selected\\1440710.java,1006,1012\n",
      "E:\\k-yokoi\\IJaDataset2.0-full\\dataset\\selected\\1440710.java,1031,1080\n",
      "E:\\k-yokoi\\IJaDataset2.0-full\\dataset\\selected\\1440710.java,1087,1093\n",
      "E:\\k-yokoi\\IJaDataset2.0-full\\dataset\\selected\\1440710.java,1100,1106\n",
      "E:\\k-yokoi\\IJaDataset2.0-full\\dataset\\selected\\1440710.java,1113,1119\n",
      "E:\\k-yokoi\\IJaDataset2.0-full\\dataset\\selected\\1440710.java,1126,1132\n",
      "E:\\k-yokoi\\IJaDataset2.0-full\\dataset\\selected\\1440710.java,1139,1152\n",
      "E:\\k-yokoi\\IJaDataset2.0-full\\dataset\\selected\\1440710.java,1159,1165\n",
      "E:\\k-yokoi\\IJaDataset2.0-full\\dataset\\selected\\1440710.java,1172,1178\n",
      "E:\\k-yokoi\\IJaDataset2.0-full\\dataset\\selected\\1440710.java,1185,1191\n",
      "E:\\k-yokoi\\IJaDataset2.0-full\\dataset\\selected\\1440710.java,1198,1204\n",
      "E:\\k-yokoi\\IJaDataset2.0-full\\dataset\\selected\\1440710.java,1211,1217\n",
      "E:\\k-yokoi\\IJaDataset2.0-full\\dataset\\selected\\1440710.java,122,130\n",
      "E:\\k-yokoi\\IJaDataset2.0-full\\dataset\\selected\\1440710.java,1224,1230\n",
      "E:\\k-yokoi\\IJaDataset2.0-full\\dataset\\selected\\1440710.java,1249,1261\n",
      "E:\\k-yokoi\\IJaDataset2.0-full\\dataset\\selected\\1440710.java,1268,1274\n",
      "E:\\k-yokoi\\IJaDataset2.0-full\\dataset\\selected\\1440710.java,1281,1287\n",
      "E:\\k-yokoi\\IJaDataset2.0-full\\dataset\\selected\\1440710.java,1294,1300\n",
      "E:\\k-yokoi\\IJaDataset2.0-full\\dataset\\selected\\1440710.java,1307,1313\n",
      "E:\\k-yokoi\\IJaDataset2.0-full\\dataset\\selected\\1440710.java,1332,1338\n",
      "E:\\k-yokoi\\IJaDataset2.0-full\\dataset\\selected\\1440710.java,1357,1363\n",
      "E:\\k-yokoi\\IJaDataset2.0-full\\dataset\\selected\\1440710.java,137,147\n",
      "E:\\k-yokoi\\IJaDataset2.0-full\\dataset\\selected\\1440710.java,1382,1388\n",
      "E:\\k-yokoi\\IJaDataset2.0-full\\dataset\\selected\\1440710.java,1406,1483\n",
      "E:\\k-yokoi\\IJaDataset2.0-full\\dataset\\selected\\1440710.java,1497,1503\n",
      "E:\\k-yokoi\\IJaDataset2.0-full\\dataset\\selected\\1440710.java,1510,1516\n",
      "E:\\k-yokoi\\IJaDataset2.0-full\\dataset\\selected\\1440710.java,1523,1529\n",
      "E:\\k-yokoi\\IJaDataset2.0-full\\dataset\\selected\\1440710.java,154,248\n",
      "E:\\k-yokoi\\IJaDataset2.0-full\\dataset\\selected\\1440710.java,255,328\n",
      "E:\\k-yokoi\\IJaDataset2.0-full\\dataset\\selected\\1440710.java,335,405\n",
      "E:\\k-yokoi\\IJaDataset2.0-full\\dataset\\selected\\1440710.java,412,473\n",
      "E:\\k-yokoi\\IJaDataset2.0-full\\dataset\\selected\\1440710.java,480,505\n",
      "E:\\k-yokoi\\IJaDataset2.0-full\\dataset\\selected\\1440710.java,512,523\n",
      "E:\\k-yokoi\\IJaDataset2.0-full\\dataset\\selected\\1440710.java,530,549\n",
      "E:\\k-yokoi\\IJaDataset2.0-full\\dataset\\selected\\1440710.java,556,730\n",
      "E:\\k-yokoi\\IJaDataset2.0-full\\dataset\\selected\\1440710.java,562,726\n",
      "E:\\k-yokoi\\IJaDataset2.0-full\\dataset\\selected\\1440710.java,737,748\n",
      "E:\\k-yokoi\\IJaDataset2.0-full\\dataset\\selected\\1440710.java,755,761\n",
      "E:\\k-yokoi\\IJaDataset2.0-full\\dataset\\selected\\1440710.java,768,774\n",
      "E:\\k-yokoi\\IJaDataset2.0-full\\dataset\\selected\\1440710.java,781,787\n",
      "E:\\k-yokoi\\IJaDataset2.0-full\\dataset\\selected\\1440710.java,794,807\n",
      "E:\\k-yokoi\\IJaDataset2.0-full\\dataset\\selected\\1440710.java,814,823\n",
      "E:\\k-yokoi\\IJaDataset2.0-full\\dataset\\selected\\1440710.java,830,839\n",
      "E:\\k-yokoi\\IJaDataset2.0-full\\dataset\\selected\\1440710.java,846,857\n",
      "E:\\k-yokoi\\IJaDataset2.0-full\\dataset\\selected\\1440710.java,864,870\n",
      "E:\\k-yokoi\\IJaDataset2.0-full\\dataset\\selected\\1440710.java,877,883\n",
      "E:\\k-yokoi\\IJaDataset2.0-full\\dataset\\selected\\1440710.java,890,896\n",
      "E:\\k-yokoi\\IJaDataset2.0-full\\dataset\\selected\\1440710.java,903,915\n",
      "E:\\k-yokoi\\IJaDataset2.0-full\\dataset\\selected\\1440710.java,922,928\n",
      "E:\\k-yokoi\\IJaDataset2.0-full\\dataset\\selected\\1440710.java,935,941\n",
      "E:\\k-yokoi\\IJaDataset2.0-full\\dataset\\selected\\1440710.java,948,954\n",
      "E:\\k-yokoi\\IJaDataset2.0-full\\dataset\\selected\\1440710.java,961,974\n",
      "E:\\k-yokoi\\IJaDataset2.0-full\\dataset\\selected\\1440710.java,981,987\n",
      "E:\\k-yokoi\\IJaDataset2.0-full\\dataset\\selected\\148151.java,110,183\n",
      "E:\\k-yokoi\\IJaDataset2.0-full\\dataset\\selected\\148151.java,185,197\n",
      "E:\\k-yokoi\\IJaDataset2.0-full\\dataset\\selected\\148151.java,199,212\n",
      "E:\\k-yokoi\\IJaDataset2.0-full\\dataset\\selected\\148151.java,214,227\n",
      "E:\\k-yokoi\\IJaDataset2.0-full\\dataset\\selected\\148151.java,229,235\n",
      "E:\\k-yokoi\\IJaDataset2.0-full\\dataset\\selected\\148151.java,23,48\n",
      "E:\\k-yokoi\\IJaDataset2.0-full\\dataset\\selected\\148151.java,244,280\n",
      "E:\\k-yokoi\\IJaDataset2.0-full\\dataset\\selected\\148151.java,282,303\n",
      "E:\\k-yokoi\\IJaDataset2.0-full\\dataset\\selected\\148151.java,320,328\n",
      "E:\\k-yokoi\\IJaDataset2.0-full\\dataset\\selected\\148151.java,330,354\n",
      "E:\\k-yokoi\\IJaDataset2.0-full\\dataset\\selected\\148151.java,362,379\n",
      "E:\\k-yokoi\\IJaDataset2.0-full\\dataset\\selected\\148151.java,381,390\n",
      "E:\\k-yokoi\\IJaDataset2.0-full\\dataset\\selected\\148151.java,398,419\n",
      "E:\\k-yokoi\\IJaDataset2.0-full\\dataset\\selected\\148151.java,432,444\n",
      "E:\\k-yokoi\\IJaDataset2.0-full\\dataset\\selected\\148151.java,55,78\n",
      "E:\\k-yokoi\\IJaDataset2.0-full\\dataset\\selected\\148151.java,85,108\n",
      "E:\\k-yokoi\\IJaDataset2.0-full\\dataset\\selected\\1508784.java,22,71\n",
      "E:\\k-yokoi\\IJaDataset2.0-full\\dataset\\selected\\1508784.java,80,103\n",
      "E:\\k-yokoi\\IJaDataset2.0-full\\dataset\\selected\\1537117.java,76,90\n",
      "E:\\k-yokoi\\IJaDataset2.0-full\\dataset\\selected\\1551682.java,16,42\n",
      "E:\\k-yokoi\\IJaDataset2.0-full\\dataset\\selected\\1584009.java,167,275\n",
      "E:\\k-yokoi\\IJaDataset2.0-full\\dataset\\selected\\1584009.java,301,314\n",
      "E:\\k-yokoi\\IJaDataset2.0-full\\dataset\\selected\\1584009.java,322,330\n",
      "E:\\k-yokoi\\IJaDataset2.0-full\\dataset\\selected\\1584009.java,338,384\n",
      "E:\\k-yokoi\\IJaDataset2.0-full\\dataset\\selected\\1584009.java,393,414\n",
      "E:\\k-yokoi\\IJaDataset2.0-full\\dataset\\selected\\1584009.java,426,443\n",
      "E:\\k-yokoi\\IJaDataset2.0-full\\dataset\\selected\\1584009.java,452,466\n",
      "E:\\k-yokoi\\IJaDataset2.0-full\\dataset\\selected\\1584009.java,475,484\n",
      "E:\\k-yokoi\\IJaDataset2.0-full\\dataset\\selected\\1584009.java,493,500\n",
      "E:\\k-yokoi\\IJaDataset2.0-full\\dataset\\selected\\1584009.java,511,523\n",
      "E:\\k-yokoi\\IJaDataset2.0-full\\dataset\\selected\\1584009.java,534,660\n",
      "E:\\k-yokoi\\IJaDataset2.0-full\\dataset\\selected\\1584009.java,669,678\n",
      "E:\\k-yokoi\\IJaDataset2.0-full\\dataset\\selected\\1584009.java,680,687\n",
      "E:\\k-yokoi\\IJaDataset2.0-full\\dataset\\selected\\1584009.java,704,730\n",
      "E:\\k-yokoi\\IJaDataset2.0-full\\dataset\\selected\\1584009.java,743,750\n",
      "E:\\k-yokoi\\IJaDataset2.0-full\\dataset\\selected\\1584009.java,774,784\n",
      "E:\\k-yokoi\\IJaDataset2.0-full\\dataset\\selected\\1584009.java,795,818\n",
      "E:\\k-yokoi\\IJaDataset2.0-full\\dataset\\selected\\1584009.java,827,865\n",
      "E:\\k-yokoi\\IJaDataset2.0-full\\dataset\\selected\\1584009.java,86,156\n",
      "E:\\k-yokoi\\IJaDataset2.0-full\\dataset\\selected\\1584009.java,875,962\n",
      "E:\\k-yokoi\\IJaDataset2.0-full\\dataset\\selected\\1584009.java,884,890\n",
      "E:\\k-yokoi\\IJaDataset2.0-full\\dataset\\selected\\1584009.java,972,987\n",
      "E:\\k-yokoi\\IJaDataset2.0-full\\dataset\\selected\\1584009.java,989,1004\n",
      "E:\\k-yokoi\\IJaDataset2.0-full\\dataset\\selected\\1666346.java,110,123\n",
      "E:\\k-yokoi\\IJaDataset2.0-full\\dataset\\selected\\1666346.java,133,147\n",
      "E:\\k-yokoi\\IJaDataset2.0-full\\dataset\\selected\\1666346.java,30,50\n",
      "E:\\k-yokoi\\IJaDataset2.0-full\\dataset\\selected\\1666346.java,52,58\n",
      "E:\\k-yokoi\\IJaDataset2.0-full\\dataset\\selected\\1666346.java,60,66\n",
      "E:\\k-yokoi\\IJaDataset2.0-full\\dataset\\selected\\1666346.java,80,102\n",
      "E:\\k-yokoi\\IJaDataset2.0-full\\dataset\\selected\\1668889.java,21,50\n",
      "E:\\k-yokoi\\IJaDataset2.0-full\\dataset\\selected\\1685203.java,121,127\n",
      "E:\\k-yokoi\\IJaDataset2.0-full\\dataset\\selected\\1685203.java,191,203\n",
      "E:\\k-yokoi\\IJaDataset2.0-full\\dataset\\selected\\1685203.java,205,245\n",
      "E:\\k-yokoi\\IJaDataset2.0-full\\dataset\\selected\\1685203.java,47,53\n",
      "E:\\k-yokoi\\IJaDataset2.0-full\\dataset\\selected\\1685203.java,55,70\n",
      "E:\\k-yokoi\\IJaDataset2.0-full\\dataset\\selected\\1685203.java,72,92\n",
      "E:\\k-yokoi\\IJaDataset2.0-full\\dataset\\selected\\1685203.java,94,112\n",
      "E:\\k-yokoi\\IJaDataset2.0-full\\dataset\\selected\\1829265.java,151,161\n",
      "E:\\k-yokoi\\IJaDataset2.0-full\\dataset\\selected\\1829265.java,169,179\n",
      "E:\\k-yokoi\\IJaDataset2.0-full\\dataset\\selected\\1829265.java,199,208\n",
      "E:\\k-yokoi\\IJaDataset2.0-full\\dataset\\selected\\1829265.java,216,223\n",
      "E:\\k-yokoi\\IJaDataset2.0-full\\dataset\\selected\\1829265.java,249,260\n",
      "E:\\k-yokoi\\IJaDataset2.0-full\\dataset\\selected\\1829265.java,320,337\n",
      "E:\\k-yokoi\\IJaDataset2.0-full\\dataset\\selected\\1829265.java,343,352\n",
      "E:\\k-yokoi\\IJaDataset2.0-full\\dataset\\selected\\1829265.java,357,377\n",
      "E:\\k-yokoi\\IJaDataset2.0-full\\dataset\\selected\\1829265.java,382,405\n",
      "E:\\k-yokoi\\IJaDataset2.0-full\\dataset\\selected\\1829265.java,410,462\n",
      "E:\\k-yokoi\\IJaDataset2.0-full\\dataset\\selected\\1829265.java,469,529\n",
      "E:\\k-yokoi\\IJaDataset2.0-full\\dataset\\selected\\1829265.java,536,577\n",
      "E:\\k-yokoi\\IJaDataset2.0-full\\dataset\\selected\\1829265.java,590,607\n",
      "E:\\k-yokoi\\IJaDataset2.0-full\\dataset\\selected\\1829265.java,627,635\n",
      "E:\\k-yokoi\\IJaDataset2.0-full\\dataset\\selected\\1866877.java,108,115\n",
      "E:\\k-yokoi\\IJaDataset2.0-full\\dataset\\selected\\1866877.java,123,159\n",
      "E:\\k-yokoi\\IJaDataset2.0-full\\dataset\\selected\\1866877.java,167,195\n",
      "E:\\k-yokoi\\IJaDataset2.0-full\\dataset\\selected\\1866877.java,203,211\n",
      "E:\\k-yokoi\\IJaDataset2.0-full\\dataset\\selected\\1866877.java,219,247\n",
      "E:\\k-yokoi\\IJaDataset2.0-full\\dataset\\selected\\1866877.java,26,38\n",
      "E:\\k-yokoi\\IJaDataset2.0-full\\dataset\\selected\\1866877.java,40,74\n",
      "E:\\k-yokoi\\IJaDataset2.0-full\\dataset\\selected\\1866877.java,84,98\n",
      "E:\\k-yokoi\\IJaDataset2.0-full\\dataset\\selected\\1880873.java,1004,1010\n",
      "E:\\k-yokoi\\IJaDataset2.0-full\\dataset\\selected\\1880873.java,1020,1026\n",
      "E:\\k-yokoi\\IJaDataset2.0-full\\dataset\\selected\\1880873.java,1040,1138\n",
      "E:\\k-yokoi\\IJaDataset2.0-full\\dataset\\selected\\1880873.java,1149,1166\n",
      "E:\\k-yokoi\\IJaDataset2.0-full\\dataset\\selected\\1880873.java,1175,1201\n",
      "E:\\k-yokoi\\IJaDataset2.0-full\\dataset\\selected\\1880873.java,1215,1234\n",
      "E:\\k-yokoi\\IJaDataset2.0-full\\dataset\\selected\\1880873.java,1245,1257\n",
      "E:\\k-yokoi\\IJaDataset2.0-full\\dataset\\selected\\1880873.java,1270,1290\n",
      "E:\\k-yokoi\\IJaDataset2.0-full\\dataset\\selected\\1880873.java,1300,1310\n",
      "E:\\k-yokoi\\IJaDataset2.0-full\\dataset\\selected\\1880873.java,1323,1343\n",
      "E:\\k-yokoi\\IJaDataset2.0-full\\dataset\\selected\\1880873.java,1355,1376\n",
      "E:\\k-yokoi\\IJaDataset2.0-full\\dataset\\selected\\1880873.java,1389,1416\n",
      "E:\\k-yokoi\\IJaDataset2.0-full\\dataset\\selected\\1880873.java,1428,1441\n",
      "E:\\k-yokoi\\IJaDataset2.0-full\\dataset\\selected\\1880873.java,1453,1471\n",
      "E:\\k-yokoi\\IJaDataset2.0-full\\dataset\\selected\\1880873.java,158,172\n",
      "E:\\k-yokoi\\IJaDataset2.0-full\\dataset\\selected\\1880873.java,186,206\n",
      "E:\\k-yokoi\\IJaDataset2.0-full\\dataset\\selected\\1880873.java,220,232\n",
      "E:\\k-yokoi\\IJaDataset2.0-full\\dataset\\selected\\1880873.java,247,372\n",
      "E:\\k-yokoi\\IJaDataset2.0-full\\dataset\\selected\\1880873.java,383,390\n",
      "E:\\k-yokoi\\IJaDataset2.0-full\\dataset\\selected\\1880873.java,401,410\n",
      "E:\\k-yokoi\\IJaDataset2.0-full\\dataset\\selected\\1880873.java,422,477\n",
      "E:\\k-yokoi\\IJaDataset2.0-full\\dataset\\selected\\1880873.java,489,546\n",
      "E:\\k-yokoi\\IJaDataset2.0-full\\dataset\\selected\\1880873.java,558,579\n",
      "E:\\k-yokoi\\IJaDataset2.0-full\\dataset\\selected\\1880873.java,591,623\n",
      "E:\\k-yokoi\\IJaDataset2.0-full\\dataset\\selected\\1880873.java,652,684\n",
      "E:\\k-yokoi\\IJaDataset2.0-full\\dataset\\selected\\1880873.java,67,148\n",
      "E:\\k-yokoi\\IJaDataset2.0-full\\dataset\\selected\\1880873.java,696,720\n",
      "E:\\k-yokoi\\IJaDataset2.0-full\\dataset\\selected\\1880873.java,732,757\n",
      "E:\\k-yokoi\\IJaDataset2.0-full\\dataset\\selected\\1880873.java,769,791\n",
      "E:\\k-yokoi\\IJaDataset2.0-full\\dataset\\selected\\1880873.java,803,828\n",
      "E:\\k-yokoi\\IJaDataset2.0-full\\dataset\\selected\\1880873.java,841,855\n",
      "E:\\k-yokoi\\IJaDataset2.0-full\\dataset\\selected\\1880873.java,868,904\n",
      "E:\\k-yokoi\\IJaDataset2.0-full\\dataset\\selected\\1880873.java,915,924\n",
      "E:\\k-yokoi\\IJaDataset2.0-full\\dataset\\selected\\1880873.java,935,943\n",
      "E:\\k-yokoi\\IJaDataset2.0-full\\dataset\\selected\\1880873.java,953,961\n",
      "E:\\k-yokoi\\IJaDataset2.0-full\\dataset\\selected\\1880873.java,971,978\n",
      "E:\\k-yokoi\\IJaDataset2.0-full\\dataset\\selected\\1880873.java,988,994\n",
      "E:\\k-yokoi\\IJaDataset2.0-full\\dataset\\selected\\1911352.java,18,25\n",
      "E:\\k-yokoi\\IJaDataset2.0-full\\dataset\\selected\\1911352.java,34,50\n",
      "E:\\k-yokoi\\IJaDataset2.0-full\\dataset\\selected\\1911352.java,59,75\n",
      "E:\\k-yokoi\\IJaDataset2.0-full\\dataset\\selected\\1911352.java,77,89\n",
      "E:\\k-yokoi\\IJaDataset2.0-full\\dataset\\selected\\1911352.java,9,16\n",
      "E:\\k-yokoi\\IJaDataset2.0-full\\dataset\\selected\\1923171.java,12,29\n",
      "E:\\k-yokoi\\IJaDataset2.0-full\\dataset\\selected\\1937709.java,100,116\n",
      "E:\\k-yokoi\\IJaDataset2.0-full\\dataset\\selected\\1937709.java,129,145\n",
      "E:\\k-yokoi\\IJaDataset2.0-full\\dataset\\selected\\1937709.java,152,166\n",
      "E:\\k-yokoi\\IJaDataset2.0-full\\dataset\\selected\\1937709.java,191,206\n",
      "E:\\k-yokoi\\IJaDataset2.0-full\\dataset\\selected\\1937709.java,213,256\n",
      "E:\\k-yokoi\\IJaDataset2.0-full\\dataset\\selected\\1937709.java,267,319\n",
      "E:\\k-yokoi\\IJaDataset2.0-full\\dataset\\selected\\1937709.java,338,344\n",
      "E:\\k-yokoi\\IJaDataset2.0-full\\dataset\\selected\\1937709.java,347,353\n",
      "E:\\k-yokoi\\IJaDataset2.0-full\\dataset\\selected\\1963468.java,120,141\n",
      "E:\\k-yokoi\\IJaDataset2.0-full\\dataset\\selected\\1963468.java,143,172\n",
      "E:\\k-yokoi\\IJaDataset2.0-full\\dataset\\selected\\1963468.java,174,354\n",
      "E:\\k-yokoi\\IJaDataset2.0-full\\dataset\\selected\\1963468.java,362,393\n",
      "E:\\k-yokoi\\IJaDataset2.0-full\\dataset\\selected\\1963468.java,395,422\n",
      "E:\\k-yokoi\\IJaDataset2.0-full\\dataset\\selected\\1963468.java,43,94\n",
      "E:\\k-yokoi\\IJaDataset2.0-full\\dataset\\selected\\1963468.java,438,453\n",
      "E:\\k-yokoi\\IJaDataset2.0-full\\dataset\\selected\\1963468.java,96,118\n",
      "E:\\k-yokoi\\IJaDataset2.0-full\\dataset\\selected\\1971314.java,101,122\n",
      "E:\\k-yokoi\\IJaDataset2.0-full\\dataset\\selected\\1971314.java,124,137\n",
      "E:\\k-yokoi\\IJaDataset2.0-full\\dataset\\selected\\1971314.java,139,161\n",
      "E:\\k-yokoi\\IJaDataset2.0-full\\dataset\\selected\\1971314.java,168,212\n",
      "E:\\k-yokoi\\IJaDataset2.0-full\\dataset\\selected\\1971314.java,20,26\n",
      "E:\\k-yokoi\\IJaDataset2.0-full\\dataset\\selected\\1971314.java,214,236\n",
      "E:\\k-yokoi\\IJaDataset2.0-full\\dataset\\selected\\1971314.java,243,250\n",
      "E:\\k-yokoi\\IJaDataset2.0-full\\dataset\\selected\\1971314.java,252,276\n",
      "E:\\k-yokoi\\IJaDataset2.0-full\\dataset\\selected\\1971314.java,278,289\n",
      "E:\\k-yokoi\\IJaDataset2.0-full\\dataset\\selected\\1971314.java,29,58\n",
      "E:\\k-yokoi\\IJaDataset2.0-full\\dataset\\selected\\1971314.java,296,314\n",
      "E:\\k-yokoi\\IJaDataset2.0-full\\dataset\\selected\\1971314.java,316,330\n",
      "E:\\k-yokoi\\IJaDataset2.0-full\\dataset\\selected\\1971314.java,340,348\n",
      "E:\\k-yokoi\\IJaDataset2.0-full\\dataset\\selected\\1971314.java,354,364\n",
      "E:\\k-yokoi\\IJaDataset2.0-full\\dataset\\selected\\1971314.java,61,74\n",
      "E:\\k-yokoi\\IJaDataset2.0-full\\dataset\\selected\\1971314.java,76,98\n",
      "E:\\k-yokoi\\IJaDataset2.0-full\\dataset\\selected\\2028278.java,16,83\n",
      "E:\\k-yokoi\\IJaDataset2.0-full\\dataset\\selected\\2147799.java,105,144\n",
      "E:\\k-yokoi\\IJaDataset2.0-full\\dataset\\selected\\2147799.java,154,173\n",
      "E:\\k-yokoi\\IJaDataset2.0-full\\dataset\\selected\\2147799.java,187,210\n",
      "E:\\k-yokoi\\IJaDataset2.0-full\\dataset\\selected\\2147799.java,44,67\n",
      "E:\\k-yokoi\\IJaDataset2.0-full\\dataset\\selected\\2147799.java,80,89\n",
      "E:\\k-yokoi\\IJaDataset2.0-full\\dataset\\selected\\2173922.java,1003,1035\n",
      "E:\\k-yokoi\\IJaDataset2.0-full\\dataset\\selected\\2173922.java,1009,1031\n",
      "E:\\k-yokoi\\IJaDataset2.0-full\\dataset\\selected\\2173922.java,1042,1056\n",
      "E:\\k-yokoi\\IJaDataset2.0-full\\dataset\\selected\\2173922.java,1058,1078\n",
      "E:\\k-yokoi\\IJaDataset2.0-full\\dataset\\selected\\2173922.java,1070,1076\n",
      "E:\\k-yokoi\\IJaDataset2.0-full\\dataset\\selected\\2173922.java,1095,1143\n",
      "E:\\k-yokoi\\IJaDataset2.0-full\\dataset\\selected\\2173922.java,1106,1139\n",
      "E:\\k-yokoi\\IJaDataset2.0-full\\dataset\\selected\\2173922.java,1148,1198\n",
      "E:\\k-yokoi\\IJaDataset2.0-full\\dataset\\selected\\2173922.java,1205,1217\n",
      "E:\\k-yokoi\\IJaDataset2.0-full\\dataset\\selected\\2173922.java,1219,1225\n",
      "E:\\k-yokoi\\IJaDataset2.0-full\\dataset\\selected\\2173922.java,1230,1358\n",
      "E:\\k-yokoi\\IJaDataset2.0-full\\dataset\\selected\\2173922.java,1303,1356\n",
      "E:\\k-yokoi\\IJaDataset2.0-full\\dataset\\selected\\2173922.java,1363,1378\n",
      "E:\\k-yokoi\\IJaDataset2.0-full\\dataset\\selected\\2173922.java,1383,1403\n",
      "E:\\k-yokoi\\IJaDataset2.0-full\\dataset\\selected\\2173922.java,1408,1421\n",
      "E:\\k-yokoi\\IJaDataset2.0-full\\dataset\\selected\\2173922.java,1432,1455\n",
      "E:\\k-yokoi\\IJaDataset2.0-full\\dataset\\selected\\2173922.java,171,180\n",
      "E:\\k-yokoi\\IJaDataset2.0-full\\dataset\\selected\\2173922.java,187,201\n",
      "E:\\k-yokoi\\IJaDataset2.0-full\\dataset\\selected\\2173922.java,208,219\n",
      "E:\\k-yokoi\\IJaDataset2.0-full\\dataset\\selected\\2173922.java,226,247\n",
      "E:\\k-yokoi\\IJaDataset2.0-full\\dataset\\selected\\2173922.java,254,270\n",
      "E:\\k-yokoi\\IJaDataset2.0-full\\dataset\\selected\\2173922.java,277,288\n",
      "E:\\k-yokoi\\IJaDataset2.0-full\\dataset\\selected\\2173922.java,302,309\n",
      "E:\\k-yokoi\\IJaDataset2.0-full\\dataset\\selected\\2173922.java,316,325\n",
      "E:\\k-yokoi\\IJaDataset2.0-full\\dataset\\selected\\2173922.java,332,341\n",
      "E:\\k-yokoi\\IJaDataset2.0-full\\dataset\\selected\\2173922.java,348,356\n",
      "E:\\k-yokoi\\IJaDataset2.0-full\\dataset\\selected\\2173922.java,363,393\n",
      "E:\\k-yokoi\\IJaDataset2.0-full\\dataset\\selected\\2173922.java,400,416\n",
      "E:\\k-yokoi\\IJaDataset2.0-full\\dataset\\selected\\2173922.java,423,440\n",
      "E:\\k-yokoi\\IJaDataset2.0-full\\dataset\\selected\\2173922.java,447,463\n",
      "E:\\k-yokoi\\IJaDataset2.0-full\\dataset\\selected\\2173922.java,470,486\n",
      "E:\\k-yokoi\\IJaDataset2.0-full\\dataset\\selected\\2173922.java,493,521\n",
      "E:\\k-yokoi\\IJaDataset2.0-full\\dataset\\selected\\2173922.java,528,542\n",
      "E:\\k-yokoi\\IJaDataset2.0-full\\dataset\\selected\\2173922.java,549,555\n",
      "E:\\k-yokoi\\IJaDataset2.0-full\\dataset\\selected\\2173922.java,562,573\n",
      "E:\\k-yokoi\\IJaDataset2.0-full\\dataset\\selected\\2173922.java,580,593\n",
      "E:\\k-yokoi\\IJaDataset2.0-full\\dataset\\selected\\2173922.java,600,656\n",
      "E:\\k-yokoi\\IJaDataset2.0-full\\dataset\\selected\\2173922.java,608,640\n",
      "E:\\k-yokoi\\IJaDataset2.0-full\\dataset\\selected\\2173922.java,663,690\n",
      "E:\\k-yokoi\\IJaDataset2.0-full\\dataset\\selected\\2173922.java,673,686\n",
      "E:\\k-yokoi\\IJaDataset2.0-full\\dataset\\selected\\2173922.java,697,722\n",
      "E:\\k-yokoi\\IJaDataset2.0-full\\dataset\\selected\\2173922.java,705,718\n",
      "E:\\k-yokoi\\IJaDataset2.0-full\\dataset\\selected\\2173922.java,729,748\n",
      "E:\\k-yokoi\\IJaDataset2.0-full\\dataset\\selected\\2173922.java,736,744\n",
      "E:\\k-yokoi\\IJaDataset2.0-full\\dataset\\selected\\2173922.java,755,775\n",
      "E:\\k-yokoi\\IJaDataset2.0-full\\dataset\\selected\\2173922.java,763,771\n",
      "E:\\k-yokoi\\IJaDataset2.0-full\\dataset\\selected\\2173922.java,782,801\n",
      "E:\\k-yokoi\\IJaDataset2.0-full\\dataset\\selected\\2173922.java,789,797\n",
      "E:\\k-yokoi\\IJaDataset2.0-full\\dataset\\selected\\2173922.java,808,816\n",
      "E:\\k-yokoi\\IJaDataset2.0-full\\dataset\\selected\\2173922.java,818,824\n",
      "E:\\k-yokoi\\IJaDataset2.0-full\\dataset\\selected\\2173922.java,831,852\n",
      "E:\\k-yokoi\\IJaDataset2.0-full\\dataset\\selected\\2173922.java,840,848\n",
      "E:\\k-yokoi\\IJaDataset2.0-full\\dataset\\selected\\2173922.java,859,874\n",
      "E:\\k-yokoi\\IJaDataset2.0-full\\dataset\\selected\\2173922.java,881,898\n",
      "E:\\k-yokoi\\IJaDataset2.0-full\\dataset\\selected\\2173922.java,905,918\n",
      "E:\\k-yokoi\\IJaDataset2.0-full\\dataset\\selected\\2173922.java,925,942\n",
      "E:\\k-yokoi\\IJaDataset2.0-full\\dataset\\selected\\2173922.java,932,938\n",
      "E:\\k-yokoi\\IJaDataset2.0-full\\dataset\\selected\\2173922.java,949,961\n",
      "E:\\k-yokoi\\IJaDataset2.0-full\\dataset\\selected\\2173922.java,968,974\n",
      "E:\\k-yokoi\\IJaDataset2.0-full\\dataset\\selected\\2173922.java,981,996\n",
      "E:\\k-yokoi\\IJaDataset2.0-full\\dataset\\selected\\2177999.java,160,166\n",
      "E:\\k-yokoi\\IJaDataset2.0-full\\dataset\\selected\\2177999.java,168,203\n",
      "E:\\k-yokoi\\IJaDataset2.0-full\\dataset\\selected\\2177999.java,205,254\n",
      "E:\\k-yokoi\\IJaDataset2.0-full\\dataset\\selected\\2177999.java,256,276\n",
      "E:\\k-yokoi\\IJaDataset2.0-full\\dataset\\selected\\2177999.java,278,298\n",
      "E:\\k-yokoi\\IJaDataset2.0-full\\dataset\\selected\\2177999.java,38,58\n",
      "E:\\k-yokoi\\IJaDataset2.0-full\\dataset\\selected\\2177999.java,60,95\n",
      "E:\\k-yokoi\\IJaDataset2.0-full\\dataset\\selected\\2177999.java,97,158\n",
      "E:\\k-yokoi\\IJaDataset2.0-full\\dataset\\selected\\2187201.java,113,168\n",
      "E:\\k-yokoi\\IJaDataset2.0-full\\dataset\\selected\\2187201.java,213,232\n",
      "E:\\k-yokoi\\IJaDataset2.0-full\\dataset\\selected\\2187201.java,244,253\n",
      "E:\\k-yokoi\\IJaDataset2.0-full\\dataset\\selected\\2187201.java,53,81\n",
      "E:\\k-yokoi\\IJaDataset2.0-full\\dataset\\selected\\2192787.java,103,142\n",
      "E:\\k-yokoi\\IJaDataset2.0-full\\dataset\\selected\\2192787.java,152,171\n",
      "E:\\k-yokoi\\IJaDataset2.0-full\\dataset\\selected\\2192787.java,185,208\n",
      "E:\\k-yokoi\\IJaDataset2.0-full\\dataset\\selected\\2192787.java,47,65\n",
      "E:\\k-yokoi\\IJaDataset2.0-full\\dataset\\selected\\2192787.java,78,87\n",
      "E:\\k-yokoi\\IJaDataset2.0-full\\dataset\\selected\\2193548.java,106,115\n",
      "E:\\k-yokoi\\IJaDataset2.0-full\\dataset\\selected\\2193548.java,117,126\n",
      "E:\\k-yokoi\\IJaDataset2.0-full\\dataset\\selected\\2193548.java,51,63\n",
      "E:\\k-yokoi\\IJaDataset2.0-full\\dataset\\selected\\2193548.java,74,86\n",
      "E:\\k-yokoi\\IJaDataset2.0-full\\dataset\\selected\\2193548.java,88,100\n",
      "E:\\k-yokoi\\IJaDataset2.0-full\\dataset\\selected\\2224132.java,135,142\n",
      "E:\\k-yokoi\\IJaDataset2.0-full\\dataset\\selected\\2224132.java,144,151\n",
      "E:\\k-yokoi\\IJaDataset2.0-full\\dataset\\selected\\2224132.java,153,165\n",
      "E:\\k-yokoi\\IJaDataset2.0-full\\dataset\\selected\\2224132.java,188,196\n",
      "E:\\k-yokoi\\IJaDataset2.0-full\\dataset\\selected\\2224132.java,66,80\n",
      "E:\\k-yokoi\\IJaDataset2.0-full\\dataset\\selected\\2224132.java,89,100\n",
      "E:\\k-yokoi\\IJaDataset2.0-full\\dataset\\selected\\2253062.java,55,62\n",
      "E:\\k-yokoi\\IJaDataset2.0-full\\dataset\\selected\\227525.java,55,62\n",
      "E:\\k-yokoi\\IJaDataset2.0-full\\dataset\\selected\\2296503.java,118,167\n",
      "E:\\k-yokoi\\IJaDataset2.0-full\\dataset\\selected\\2296503.java,17,44\n",
      "E:\\k-yokoi\\IJaDataset2.0-full\\dataset\\selected\\2296503.java,173,183\n",
      "E:\\k-yokoi\\IJaDataset2.0-full\\dataset\\selected\\2296503.java,206,212\n",
      "E:\\k-yokoi\\IJaDataset2.0-full\\dataset\\selected\\2296503.java,214,223\n",
      "E:\\k-yokoi\\IJaDataset2.0-full\\dataset\\selected\\2296503.java,266,272\n",
      "E:\\k-yokoi\\IJaDataset2.0-full\\dataset\\selected\\2296503.java,280,286\n",
      "E:\\k-yokoi\\IJaDataset2.0-full\\dataset\\selected\\2296503.java,46,111\n",
      "E:\\k-yokoi\\IJaDataset2.0-full\\dataset\\selected\\2344182.java,42,70\n",
      "E:\\k-yokoi\\IJaDataset2.0-full\\dataset\\selected\\2367133.java,241,311\n",
      "E:\\k-yokoi\\IJaDataset2.0-full\\dataset\\selected\\2367133.java,316,380\n",
      "E:\\k-yokoi\\IJaDataset2.0-full\\dataset\\selected\\2367133.java,387,393\n",
      "E:\\k-yokoi\\IJaDataset2.0-full\\dataset\\selected\\2367133.java,416,423\n",
      "E:\\k-yokoi\\IJaDataset2.0-full\\dataset\\selected\\2367133.java,432,457\n",
      "E:\\k-yokoi\\IJaDataset2.0-full\\dataset\\selected\\2367133.java,471,521\n",
      "E:\\k-yokoi\\IJaDataset2.0-full\\dataset\\selected\\2367133.java,527,551\n",
      "E:\\k-yokoi\\IJaDataset2.0-full\\dataset\\selected\\2367133.java,577,628\n",
      "E:\\k-yokoi\\IJaDataset2.0-full\\dataset\\selected\\2367133.java,636,724\n",
      "E:\\k-yokoi\\IJaDataset2.0-full\\dataset\\selected\\2367133.java,730,754\n",
      "E:\\k-yokoi\\IJaDataset2.0-full\\dataset\\selected\\2367133.java,96,235\n",
      "E:\\k-yokoi\\IJaDataset2.0-full\\dataset\\selected\\2370744.java,15,40\n",
      "E:\\k-yokoi\\IJaDataset2.0-full\\dataset\\selected\\2370744.java,47,54\n",
      "E:\\k-yokoi\\IJaDataset2.0-full\\dataset\\selected\\2370744.java,62,69\n",
      "E:\\k-yokoi\\IJaDataset2.0-full\\dataset\\selected\\2370744.java,74,108\n",
      "E:\\k-yokoi\\IJaDataset2.0-full\\dataset\\selected\\2380289.java,30,57\n",
      "E:\\k-yokoi\\IJaDataset2.0-full\\dataset\\selected\\2380289.java,63,73\n",
      "E:\\k-yokoi\\IJaDataset2.0-full\\dataset\\selected\\2419100.java,113,136\n",
      "E:\\k-yokoi\\IJaDataset2.0-full\\dataset\\selected\\2419100.java,142,165\n",
      "E:\\k-yokoi\\IJaDataset2.0-full\\dataset\\selected\\2419100.java,172,192\n",
      "E:\\k-yokoi\\IJaDataset2.0-full\\dataset\\selected\\2419100.java,45,65\n",
      "E:\\k-yokoi\\IJaDataset2.0-full\\dataset\\selected\\2419100.java,76,85\n",
      "E:\\k-yokoi\\IJaDataset2.0-full\\dataset\\selected\\2419100.java,91,106\n",
      "E:\\k-yokoi\\IJaDataset2.0-full\\dataset\\selected\\2422498.java,49,109\n",
      "E:\\k-yokoi\\IJaDataset2.0-full\\dataset\\selected\\2454235.java,39,82\n",
      "E:\\k-yokoi\\IJaDataset2.0-full\\dataset\\selected\\2487920.java,50,58\n",
      "E:\\k-yokoi\\IJaDataset2.0-full\\dataset\\selected\\2487920.java,7,48\n",
      "E:\\k-yokoi\\IJaDataset2.0-full\\dataset\\selected\\2582080.java,109,115\n",
      "E:\\k-yokoi\\IJaDataset2.0-full\\dataset\\selected\\2582080.java,117,130\n",
      "E:\\k-yokoi\\IJaDataset2.0-full\\dataset\\selected\\2582080.java,49,107\n",
      "E:\\k-yokoi\\IJaDataset2.0-full\\dataset\\selected\\2590518.java,23,29\n",
      "E:\\k-yokoi\\IJaDataset2.0-full\\dataset\\selected\\2590518.java,36,43\n",
      "E:\\k-yokoi\\IJaDataset2.0-full\\dataset\\selected\\2590518.java,53,71\n",
      "E:\\k-yokoi\\IJaDataset2.0-full\\dataset\\selected\\2590518.java,76,135\n",
      "E:\\k-yokoi\\IJaDataset2.0-full\\dataset\\selected\\2606099.java,185,216\n",
      "E:\\k-yokoi\\IJaDataset2.0-full\\dataset\\selected\\2606099.java,87,96\n",
      "E:\\k-yokoi\\IJaDataset2.0-full\\dataset\\selected\\262859.java,101,109\n",
      "E:\\k-yokoi\\IJaDataset2.0-full\\dataset\\selected\\262859.java,111,120\n",
      "E:\\k-yokoi\\IJaDataset2.0-full\\dataset\\selected\\262859.java,122,134\n",
      "E:\\k-yokoi\\IJaDataset2.0-full\\dataset\\selected\\262859.java,137,144\n",
      "E:\\k-yokoi\\IJaDataset2.0-full\\dataset\\selected\\262859.java,150,172\n",
      "E:\\k-yokoi\\IJaDataset2.0-full\\dataset\\selected\\262859.java,174,183\n",
      "E:\\k-yokoi\\IJaDataset2.0-full\\dataset\\selected\\262859.java,46,55\n",
      "E:\\k-yokoi\\IJaDataset2.0-full\\dataset\\selected\\262859.java,62,90\n",
      "E:\\k-yokoi\\IJaDataset2.0-full\\dataset\\selected\\2683681.java,23,58\n",
      "E:\\k-yokoi\\IJaDataset2.0-full\\dataset\\selected\\2683681.java,65,76\n",
      "E:\\k-yokoi\\IJaDataset2.0-full\\dataset\\selected\\2685260.java,134,284\n",
      "E:\\k-yokoi\\IJaDataset2.0-full\\dataset\\selected\\2685260.java,295,361\n",
      "E:\\k-yokoi\\IJaDataset2.0-full\\dataset\\selected\\2685260.java,373,434\n",
      "E:\\k-yokoi\\IJaDataset2.0-full\\dataset\\selected\\2685260.java,443,455\n",
      "E:\\k-yokoi\\IJaDataset2.0-full\\dataset\\selected\\2685260.java,466,475\n",
      "E:\\k-yokoi\\IJaDataset2.0-full\\dataset\\selected\\2685260.java,487,542\n",
      "E:\\k-yokoi\\IJaDataset2.0-full\\dataset\\selected\\2685260.java,550,567\n",
      "E:\\k-yokoi\\IJaDataset2.0-full\\dataset\\selected\\2685260.java,580,601\n",
      "E:\\k-yokoi\\IJaDataset2.0-full\\dataset\\selected\\2685260.java,612,624\n",
      "E:\\k-yokoi\\IJaDataset2.0-full\\dataset\\selected\\2685260.java,63,120\n",
      "E:\\k-yokoi\\IJaDataset2.0-full\\dataset\\selected\\2685260.java,637,656\n",
      "E:\\k-yokoi\\IJaDataset2.0-full\\dataset\\selected\\2685260.java,666,674\n",
      "E:\\k-yokoi\\IJaDataset2.0-full\\dataset\\selected\\2685260.java,687,708\n",
      "E:\\k-yokoi\\IJaDataset2.0-full\\dataset\\selected\\2685260.java,720,742\n",
      "E:\\k-yokoi\\IJaDataset2.0-full\\dataset\\selected\\2685260.java,755,782\n",
      "E:\\k-yokoi\\IJaDataset2.0-full\\dataset\\selected\\2685260.java,793,799\n",
      "E:\\k-yokoi\\IJaDataset2.0-full\\dataset\\selected\\2709594.java,88,104\n",
      "E:\\k-yokoi\\IJaDataset2.0-full\\dataset\\selected\\2711101.java,126,173\n",
      "E:\\k-yokoi\\IJaDataset2.0-full\\dataset\\selected\\2711101.java,175,184\n",
      "E:\\k-yokoi\\IJaDataset2.0-full\\dataset\\selected\\2711101.java,186,203\n",
      "E:\\k-yokoi\\IJaDataset2.0-full\\dataset\\selected\\2711101.java,205,214\n",
      "E:\\k-yokoi\\IJaDataset2.0-full\\dataset\\selected\\2711101.java,217,243\n",
      "E:\\k-yokoi\\IJaDataset2.0-full\\dataset\\selected\\2711101.java,255,269\n",
      "E:\\k-yokoi\\IJaDataset2.0-full\\dataset\\selected\\2711101.java,280,291\n",
      "E:\\k-yokoi\\IJaDataset2.0-full\\dataset\\selected\\2711101.java,333,350\n",
      "E:\\k-yokoi\\IJaDataset2.0-full\\dataset\\selected\\2711101.java,351,368\n",
      "E:\\k-yokoi\\IJaDataset2.0-full\\dataset\\selected\\2711101.java,369,384\n",
      "E:\\k-yokoi\\IJaDataset2.0-full\\dataset\\selected\\2711101.java,38,54\n",
      "E:\\k-yokoi\\IJaDataset2.0-full\\dataset\\selected\\2711101.java,55,82\n",
      "E:\\k-yokoi\\IJaDataset2.0-full\\dataset\\selected\\2711101.java,86,122\n",
      "E:\\k-yokoi\\IJaDataset2.0-full\\dataset\\selected\\321216.java,160,175\n",
      "E:\\k-yokoi\\IJaDataset2.0-full\\dataset\\selected\\321216.java,177,204\n",
      "E:\\k-yokoi\\IJaDataset2.0-full\\dataset\\selected\\321216.java,207,223\n",
      "E:\\k-yokoi\\IJaDataset2.0-full\\dataset\\selected\\321216.java,226,258\n",
      "E:\\k-yokoi\\IJaDataset2.0-full\\dataset\\selected\\321216.java,261,283\n",
      "E:\\k-yokoi\\IJaDataset2.0-full\\dataset\\selected\\321216.java,286,308\n",
      "E:\\k-yokoi\\IJaDataset2.0-full\\dataset\\selected\\321216.java,311,452\n",
      "E:\\k-yokoi\\IJaDataset2.0-full\\dataset\\selected\\321216.java,460,474\n",
      "E:\\k-yokoi\\IJaDataset2.0-full\\dataset\\selected\\321216.java,476,590\n",
      "E:\\k-yokoi\\IJaDataset2.0-full\\dataset\\selected\\321216.java,480,562\n",
      "E:\\k-yokoi\\IJaDataset2.0-full\\dataset\\selected\\321216.java,564,585\n",
      "E:\\k-yokoi\\IJaDataset2.0-full\\dataset\\selected\\321216.java,594,617\n",
      "E:\\k-yokoi\\IJaDataset2.0-full\\dataset\\selected\\321216.java,619,634\n",
      "E:\\k-yokoi\\IJaDataset2.0-full\\dataset\\selected\\321216.java,636,660\n",
      "E:\\k-yokoi\\IJaDataset2.0-full\\dataset\\selected\\321216.java,93,156\n",
      "E:\\k-yokoi\\IJaDataset2.0-full\\dataset\\selected\\335609.java,120,157\n",
      "E:\\k-yokoi\\IJaDataset2.0-full\\dataset\\selected\\335609.java,159,552\n",
      "E:\\k-yokoi\\IJaDataset2.0-full\\dataset\\selected\\335609.java,575,584\n",
      "E:\\k-yokoi\\IJaDataset2.0-full\\dataset\\selected\\335609.java,595,603\n",
      "E:\\k-yokoi\\IJaDataset2.0-full\\dataset\\selected\\335609.java,615,627\n",
      "E:\\k-yokoi\\IJaDataset2.0-full\\dataset\\selected\\335609.java,629,637\n",
      "E:\\k-yokoi\\IJaDataset2.0-full\\dataset\\selected\\335609.java,639,652\n",
      "E:\\k-yokoi\\IJaDataset2.0-full\\dataset\\selected\\339455.java,20,28\n",
      "E:\\k-yokoi\\IJaDataset2.0-full\\dataset\\selected\\339455.java,30,37\n",
      "E:\\k-yokoi\\IJaDataset2.0-full\\dataset\\selected\\339663.java,18,49\n",
      "E:\\k-yokoi\\IJaDataset2.0-full\\dataset\\selected\\443973.java,73,93\n",
      "E:\\k-yokoi\\IJaDataset2.0-full\\dataset\\selected\\504435.java,126,144\n",
      "E:\\k-yokoi\\IJaDataset2.0-full\\dataset\\selected\\504435.java,180,189\n",
      "E:\\k-yokoi\\IJaDataset2.0-full\\dataset\\selected\\504435.java,198,205\n",
      "E:\\k-yokoi\\IJaDataset2.0-full\\dataset\\selected\\549636.java,1018,1026\n",
      "E:\\k-yokoi\\IJaDataset2.0-full\\dataset\\selected\\549636.java,1041,1067\n",
      "E:\\k-yokoi\\IJaDataset2.0-full\\dataset\\selected\\549636.java,1072,1080\n",
      "E:\\k-yokoi\\IJaDataset2.0-full\\dataset\\selected\\549636.java,146,170\n",
      "E:\\k-yokoi\\IJaDataset2.0-full\\dataset\\selected\\549636.java,172,179\n",
      "E:\\k-yokoi\\IJaDataset2.0-full\\dataset\\selected\\549636.java,181,197\n",
      "E:\\k-yokoi\\IJaDataset2.0-full\\dataset\\selected\\549636.java,223,315\n",
      "E:\\k-yokoi\\IJaDataset2.0-full\\dataset\\selected\\549636.java,323,411\n",
      "E:\\k-yokoi\\IJaDataset2.0-full\\dataset\\selected\\549636.java,425,453\n",
      "E:\\k-yokoi\\IJaDataset2.0-full\\dataset\\selected\\549636.java,468,502\n",
      "E:\\k-yokoi\\IJaDataset2.0-full\\dataset\\selected\\549636.java,509,577\n",
      "E:\\k-yokoi\\IJaDataset2.0-full\\dataset\\selected\\549636.java,610,618\n",
      "E:\\k-yokoi\\IJaDataset2.0-full\\dataset\\selected\\549636.java,633,649\n",
      "E:\\k-yokoi\\IJaDataset2.0-full\\dataset\\selected\\549636.java,675,690\n",
      "E:\\k-yokoi\\IJaDataset2.0-full\\dataset\\selected\\549636.java,697,770\n",
      "E:\\k-yokoi\\IJaDataset2.0-full\\dataset\\selected\\549636.java,777,808\n",
      "E:\\k-yokoi\\IJaDataset2.0-full\\dataset\\selected\\549636.java,813,837\n",
      "E:\\k-yokoi\\IJaDataset2.0-full\\dataset\\selected\\549636.java,842,908\n",
      "E:\\k-yokoi\\IJaDataset2.0-full\\dataset\\selected\\549636.java,919,925\n",
      "E:\\k-yokoi\\IJaDataset2.0-full\\dataset\\selected\\549636.java,930,938\n",
      "E:\\k-yokoi\\IJaDataset2.0-full\\dataset\\selected\\549636.java,943,958\n",
      "E:\\k-yokoi\\IJaDataset2.0-full\\dataset\\selected\\549636.java,963,978\n",
      "E:\\k-yokoi\\IJaDataset2.0-full\\dataset\\selected\\549636.java,983,992\n",
      "E:\\k-yokoi\\IJaDataset2.0-full\\dataset\\selected\\549636.java,997,1006\n",
      "E:\\k-yokoi\\IJaDataset2.0-full\\dataset\\selected\\56690.java,161,354\n",
      "E:\\k-yokoi\\IJaDataset2.0-full\\dataset\\selected\\56690.java,356,371\n",
      "E:\\k-yokoi\\IJaDataset2.0-full\\dataset\\selected\\56690.java,373,396\n",
      "E:\\k-yokoi\\IJaDataset2.0-full\\dataset\\selected\\56690.java,73,153\n",
      "E:\\k-yokoi\\IJaDataset2.0-full\\dataset\\selected\\572653.java,1011,1041\n",
      "E:\\k-yokoi\\IJaDataset2.0-full\\dataset\\selected\\572653.java,103,125\n",
      "E:\\k-yokoi\\IJaDataset2.0-full\\dataset\\selected\\572653.java,1052,1069\n",
      "E:\\k-yokoi\\IJaDataset2.0-full\\dataset\\selected\\572653.java,1071,1086\n",
      "E:\\k-yokoi\\IJaDataset2.0-full\\dataset\\selected\\572653.java,137,145\n",
      "E:\\k-yokoi\\IJaDataset2.0-full\\dataset\\selected\\572653.java,150,169\n",
      "E:\\k-yokoi\\IJaDataset2.0-full\\dataset\\selected\\572653.java,174,188\n",
      "E:\\k-yokoi\\IJaDataset2.0-full\\dataset\\selected\\572653.java,194,208\n",
      "E:\\k-yokoi\\IJaDataset2.0-full\\dataset\\selected\\572653.java,214,235\n",
      "E:\\k-yokoi\\IJaDataset2.0-full\\dataset\\selected\\572653.java,243,257\n",
      "E:\\k-yokoi\\IJaDataset2.0-full\\dataset\\selected\\572653.java,263,276\n",
      "E:\\k-yokoi\\IJaDataset2.0-full\\dataset\\selected\\572653.java,289,305\n",
      "E:\\k-yokoi\\IJaDataset2.0-full\\dataset\\selected\\572653.java,317,328\n",
      "E:\\k-yokoi\\IJaDataset2.0-full\\dataset\\selected\\572653.java,339,350\n",
      "E:\\k-yokoi\\IJaDataset2.0-full\\dataset\\selected\\572653.java,360,374\n",
      "E:\\k-yokoi\\IJaDataset2.0-full\\dataset\\selected\\572653.java,384,569\n",
      "E:\\k-yokoi\\IJaDataset2.0-full\\dataset\\selected\\572653.java,583,620\n",
      "E:\\k-yokoi\\IJaDataset2.0-full\\dataset\\selected\\572653.java,632,659\n",
      "E:\\k-yokoi\\IJaDataset2.0-full\\dataset\\selected\\572653.java,671,698\n",
      "E:\\k-yokoi\\IJaDataset2.0-full\\dataset\\selected\\572653.java,709,719\n",
      "E:\\k-yokoi\\IJaDataset2.0-full\\dataset\\selected\\572653.java,71,92\n",
      "E:\\k-yokoi\\IJaDataset2.0-full\\dataset\\selected\\572653.java,729,747\n",
      "E:\\k-yokoi\\IJaDataset2.0-full\\dataset\\selected\\572653.java,757,767\n",
      "E:\\k-yokoi\\IJaDataset2.0-full\\dataset\\selected\\572653.java,776,785\n",
      "E:\\k-yokoi\\IJaDataset2.0-full\\dataset\\selected\\572653.java,797,803\n",
      "E:\\k-yokoi\\IJaDataset2.0-full\\dataset\\selected\\572653.java,813,819\n",
      "E:\\k-yokoi\\IJaDataset2.0-full\\dataset\\selected\\572653.java,829,835\n",
      "E:\\k-yokoi\\IJaDataset2.0-full\\dataset\\selected\\572653.java,848,907\n",
      "E:\\k-yokoi\\IJaDataset2.0-full\\dataset\\selected\\572653.java,918,925\n",
      "E:\\k-yokoi\\IJaDataset2.0-full\\dataset\\selected\\572653.java,936,945\n",
      "E:\\k-yokoi\\IJaDataset2.0-full\\dataset\\selected\\572653.java,957,974\n",
      "E:\\k-yokoi\\IJaDataset2.0-full\\dataset\\selected\\572653.java,985,1000\n",
      "E:\\k-yokoi\\IJaDataset2.0-full\\dataset\\selected\\587793.java,24,40\n",
      "E:\\k-yokoi\\IJaDataset2.0-full\\dataset\\selected\\615055.java,37,81\n",
      "E:\\k-yokoi\\IJaDataset2.0-full\\dataset\\selected\\615055.java,83,133\n",
      "E:\\k-yokoi\\IJaDataset2.0-full\\dataset\\selected\\62891.java,42,49\n",
      "E:\\k-yokoi\\IJaDataset2.0-full\\dataset\\selected\\649201.java,120,391\n",
      "E:\\k-yokoi\\IJaDataset2.0-full\\dataset\\selected\\649201.java,192,199\n",
      "E:\\k-yokoi\\IJaDataset2.0-full\\dataset\\selected\\649201.java,282,342\n",
      "E:\\k-yokoi\\IJaDataset2.0-full\\dataset\\selected\\649201.java,349,375\n",
      "E:\\k-yokoi\\IJaDataset2.0-full\\dataset\\selected\\649201.java,396,404\n",
      "E:\\k-yokoi\\IJaDataset2.0-full\\dataset\\selected\\649201.java,409,417\n",
      "E:\\k-yokoi\\IJaDataset2.0-full\\dataset\\selected\\649201.java,423,630\n",
      "E:\\k-yokoi\\IJaDataset2.0-full\\dataset\\selected\\649201.java,632,656\n",
      "E:\\k-yokoi\\IJaDataset2.0-full\\dataset\\selected\\649201.java,662,674\n",
      "E:\\k-yokoi\\IJaDataset2.0-full\\dataset\\selected\\649201.java,684,732\n",
      "E:\\k-yokoi\\IJaDataset2.0-full\\dataset\\selected\\649201.java,738,748\n",
      "E:\\k-yokoi\\IJaDataset2.0-full\\dataset\\selected\\649201.java,754,775\n",
      "E:\\k-yokoi\\IJaDataset2.0-full\\dataset\\selected\\649201.java,757,772\n",
      "E:\\k-yokoi\\IJaDataset2.0-full\\dataset\\selected\\649201.java,780,1012\n",
      "E:\\k-yokoi\\IJaDataset2.0-full\\dataset\\selected\\659880.java,1071,1078\n",
      "E:\\k-yokoi\\IJaDataset2.0-full\\dataset\\selected\\659880.java,1121,1143\n",
      "E:\\k-yokoi\\IJaDataset2.0-full\\dataset\\selected\\659880.java,1163,1236\n",
      "E:\\k-yokoi\\IJaDataset2.0-full\\dataset\\selected\\659880.java,130,137\n",
      "E:\\k-yokoi\\IJaDataset2.0-full\\dataset\\selected\\659880.java,211,333\n",
      "E:\\k-yokoi\\IJaDataset2.0-full\\dataset\\selected\\659880.java,227,272\n",
      "E:\\k-yokoi\\IJaDataset2.0-full\\dataset\\selected\\659880.java,276,325\n",
      "E:\\k-yokoi\\IJaDataset2.0-full\\dataset\\selected\\659880.java,344,406\n",
      "E:\\k-yokoi\\IJaDataset2.0-full\\dataset\\selected\\659880.java,357,364\n",
      "E:\\k-yokoi\\IJaDataset2.0-full\\dataset\\selected\\659880.java,411,557\n",
      "E:\\k-yokoi\\IJaDataset2.0-full\\dataset\\selected\\659880.java,562,638\n",
      "E:\\k-yokoi\\IJaDataset2.0-full\\dataset\\selected\\659880.java,640,697\n",
      "E:\\k-yokoi\\IJaDataset2.0-full\\dataset\\selected\\659880.java,71,80\n",
      "E:\\k-yokoi\\IJaDataset2.0-full\\dataset\\selected\\659880.java,716,740\n",
      "E:\\k-yokoi\\IJaDataset2.0-full\\dataset\\selected\\659880.java,742,790\n",
      "E:\\k-yokoi\\IJaDataset2.0-full\\dataset\\selected\\659880.java,795,802\n",
      "E:\\k-yokoi\\IJaDataset2.0-full\\dataset\\selected\\659880.java,808,986\n",
      "E:\\k-yokoi\\IJaDataset2.0-full\\dataset\\selected\\659880.java,95,339\n",
      "E:\\k-yokoi\\IJaDataset2.0-full\\dataset\\selected\\659880.java,991,1158\n",
      "E:\\k-yokoi\\IJaDataset2.0-full\\dataset\\selected\\719306.java,104,121\n",
      "E:\\k-yokoi\\IJaDataset2.0-full\\dataset\\selected\\719306.java,123,133\n",
      "E:\\k-yokoi\\IJaDataset2.0-full\\dataset\\selected\\719306.java,54,77\n",
      "E:\\k-yokoi\\IJaDataset2.0-full\\dataset\\selected\\719306.java,79,94\n",
      "E:\\k-yokoi\\IJaDataset2.0-full\\dataset\\selected\\736406.java,17,88\n",
      "E:\\k-yokoi\\IJaDataset2.0-full\\dataset\\selected\\746058.java,107,133\n",
      "E:\\k-yokoi\\IJaDataset2.0-full\\dataset\\selected\\746058.java,145,181\n",
      "E:\\k-yokoi\\IJaDataset2.0-full\\dataset\\selected\\746058.java,183,202\n",
      "E:\\k-yokoi\\IJaDataset2.0-full\\dataset\\selected\\746058.java,33,61\n",
      "E:\\k-yokoi\\IJaDataset2.0-full\\dataset\\selected\\746058.java,63,84\n",
      "E:\\k-yokoi\\IJaDataset2.0-full\\dataset\\selected\\746058.java,91,105\n",
      "E:\\k-yokoi\\IJaDataset2.0-full\\dataset\\selected\\787534.java,109,118\n",
      "E:\\k-yokoi\\IJaDataset2.0-full\\dataset\\selected\\787534.java,76,88\n",
      "E:\\k-yokoi\\IJaDataset2.0-full\\dataset\\selected\\787534.java,95,103\n",
      "E:\\k-yokoi\\IJaDataset2.0-full\\dataset\\selected\\835443.java,12,26\n",
      "E:\\k-yokoi\\IJaDataset2.0-full\\dataset\\selected\\913096.java,117,147\n",
      "E:\\k-yokoi\\IJaDataset2.0-full\\dataset\\selected\\913096.java,50,82\n",
      "E:\\k-yokoi\\IJaDataset2.0-full\\dataset\\selected\\913096.java,89,115\n",
      "E:\\k-yokoi\\IJaDataset2.0-full\\dataset\\selected\\917307.java,131,146\n",
      "E:\\k-yokoi\\IJaDataset2.0-full\\dataset\\selected\\917307.java,156,187\n",
      "E:\\k-yokoi\\IJaDataset2.0-full\\dataset\\selected\\917307.java,197,227\n",
      "E:\\k-yokoi\\IJaDataset2.0-full\\dataset\\selected\\917307.java,229,254\n",
      "E:\\k-yokoi\\IJaDataset2.0-full\\dataset\\selected\\917307.java,39,65\n",
      "E:\\k-yokoi\\IJaDataset2.0-full\\dataset\\selected\\917307.java,67,121\n",
      "E:\\k-yokoi\\IJaDataset2.0-full\\dataset\\selected\\918130.java,14,30\n",
      "E:\\k-yokoi\\IJaDataset2.0-full\\dataset\\selected\\931922.java,155,174\n",
      "E:\\k-yokoi\\IJaDataset2.0-full\\dataset\\selected\\931922.java,58,68\n",
      "E:\\k-yokoi\\IJaDataset2.0-full\\dataset\\selected\\993846.java,108,121\n",
      "E:\\k-yokoi\\IJaDataset2.0-full\\dataset\\selected\\993846.java,126,133\n",
      "E:\\k-yokoi\\IJaDataset2.0-full\\dataset\\selected\\993846.java,150,190\n",
      "E:\\k-yokoi\\IJaDataset2.0-full\\dataset\\selected\\993846.java,192,324\n",
      "E:\\k-yokoi\\IJaDataset2.0-full\\dataset\\selected\\993846.java,330,364\n",
      "E:\\k-yokoi\\IJaDataset2.0-full\\dataset\\selected\\993846.java,382,411\n",
      "E:\\k-yokoi\\IJaDataset2.0-full\\dataset\\selected\\993846.java,415,480\n",
      "E:\\k-yokoi\\IJaDataset2.0-full\\dataset\\selected\\993846.java,516,528\n",
      "E:\\k-yokoi\\IJaDataset2.0-full\\dataset\\selected\\993846.java,530,538\n",
      "E:\\k-yokoi\\IJaDataset2.0-full\\dataset\\selected\\993846.java,540,553\n",
      "E:\\k-yokoi\\IJaDataset2.0-full\\dataset\\selected\\993846.java,86,103\n"
     ]
    }
   ],
   "source": [
    "print('\\n'.join(lines))"
   ]
  },
  {
   "cell_type": "code",
   "execution_count": null,
   "metadata": {},
   "outputs": [],
   "source": []
  }
 ],
 "metadata": {
  "kernelspec": {
   "display_name": "Python 3",
   "language": "python",
   "name": "python3"
  },
  "language_info": {
   "codemirror_mode": {
    "name": "ipython",
    "version": 3
   },
   "file_extension": ".py",
   "mimetype": "text/x-python",
   "name": "python",
   "nbconvert_exporter": "python",
   "pygments_lexer": "ipython3",
   "version": "3.6.7"
  }
 },
 "nbformat": 4,
 "nbformat_minor": 2
}
